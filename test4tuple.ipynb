{
 "cells": [
  {
   "cell_type": "code",
   "execution_count": 1,
   "id": "826df9fa",
   "metadata": {},
   "outputs": [
    {
     "name": "stdout",
     "output_type": "stream",
     "text": [
      "Question 1: Create a tuple of first 10 natural numbers\n",
      "Tuple of first 10 natural numbers: (1, 2, 3, 4, 5, 6, 7, 8, 9, 10)\n"
     ]
    }
   ],
   "source": [
    "print(\"Question 1: Create a tuple of first 10 natural numbers\")\n",
    "natural_numbers = tuple(range(1, 11))\n",
    "\n",
    "print(\"Tuple of first 10 natural numbers:\", natural_numbers)"
   ]
  },
  {
   "cell_type": "code",
   "execution_count": 2,
   "id": "1f52cc68",
   "metadata": {},
   "outputs": [
    {
     "name": "stdout",
     "output_type": "stream",
     "text": [
      "\n",
      "Question 2: Find the length of tuple (1, 2, 3, 4, 5, 6, 7, 8, 9, 10)\n",
      "Length of tuple: 10\n"
     ]
    }
   ],
   "source": [
    "print(\"\\nQuestion 2: Find the length of tuple (1, 2, 3, 4, 5, 6, 7, 8, 9, 10)\")\n",
    "numbers = (1, 2, 3, 4, 5, 6, 7, 8, 9, 10)\n",
    "length = len(numbers)\n",
    "print(\"Length of tuple:\", length)"
   ]
  },
  {
   "cell_type": "code",
   "execution_count": 3,
   "id": "ae400f01",
   "metadata": {},
   "outputs": [
    {
     "name": "stdout",
     "output_type": "stream",
     "text": [
      "\n",
      "Question 3: Access the 3rd element from tuple ('a', 'b', 'c', 'd', 'e')\n",
      "3rd element: c\n"
     ]
    }
   ],
   "source": [
    "print(\"\\nQuestion 3: Access the 3rd element from tuple ('a', 'b', 'c', 'd', 'e')\")\n",
    "letters = ('a', 'b', 'c', 'd', 'e')\n",
    "third_element = letters[2]\n",
    "print(\"3rd element:\", third_element)"
   ]
  },
  {
   "cell_type": "code",
   "execution_count": 4,
   "id": "86d9592b",
   "metadata": {},
   "outputs": [
    {
     "name": "stdout",
     "output_type": "stream",
     "text": [
      "\n",
      "Question 4: Find the maximum value in tuple (23, 45, 12, 67, 34, 89, 56)\n",
      "Maximum value: 89\n"
     ]
    }
   ],
   "source": [
    "print(\"\\nQuestion 4: Find the maximum value in tuple (23, 45, 12, 67, 34, 89, 56)\")\n",
    "numbers = (23, 45, 12, 67, 34, 89, 56)\n",
    "max_value = max(numbers)\n",
    "print(\"Maximum value:\", max_value)"
   ]
  },
  {
   "cell_type": "code",
   "execution_count": 5,
   "id": "56f3f9dd",
   "metadata": {},
   "outputs": [
    {
     "name": "stdout",
     "output_type": "stream",
     "text": [
      "\n",
      "Question 5: Count how many times 5 appears in (1, 5, 2, 5, 3, 5, 4, 5, 6)\n",
      "Number 5 appears 4 times.\n"
     ]
    }
   ],
   "source": [
    "print(\"\\nQuestion 5: Count how many times 5 appears in (1, 5, 2, 5, 3, 5, 4, 5, 6)\")\n",
    "numbers = (1, 5, 2, 5, 3, 5, 4, 5, 6)\n",
    "count_5 = numbers.count(5)\n",
    "print(\"Number 5 appears\", count_5, \"times.\")"
   ]
  },
  {
   "cell_type": "code",
   "execution_count": 6,
   "id": "d897082f",
   "metadata": {},
   "outputs": [
    {
     "name": "stdout",
     "output_type": "stream",
     "text": [
      "\n",
      "Question 6: Create a tuple of mixed data types (integer, float, string, boolean)\n",
      "Mixed data types tuple: (42, 3.14, 'Hello', True)\n"
     ]
    }
   ],
   "source": [
    "print(\"\\nQuestion 6: Create a tuple of mixed data types (integer, float, string, boolean)\")\n",
    "mixed_tuple = (42, 3.14, \"Hello\", True)\n",
    "print(\"Mixed data types tuple:\", mixed_tuple)"
   ]
  },
  {
   "cell_type": "code",
   "execution_count": 7,
   "id": "f091937e",
   "metadata": {},
   "outputs": [
    {
     "name": "stdout",
     "output_type": "stream",
     "text": [
      "\n",
      "Question 7: Find the index of element 'python' in ('java', 'python', 'c++', 'javascript')\n",
      "Index of 'python': 1\n"
     ]
    }
   ],
   "source": [
    "print(\"\\nQuestion 7: Find the index of element 'python' in ('java', 'python', 'c++', 'javascript')\")\n",
    "languages = ('java', 'python', 'c++', 'javascript')\n",
    "\n",
    "index_python = languages.index('python')\n",
    "\n",
    "print(\"Index of 'python':\", index_python)"
   ]
  },
  {
   "cell_type": "code",
   "execution_count": 8,
   "id": "b882bd86",
   "metadata": {},
   "outputs": [
    {
     "name": "stdout",
     "output_type": "stream",
     "text": [
      "\n",
      "Question 8: Check if 25 exists in tuple (10, 20, 30, 40, 50)\n",
      "25 does not exist in the tuple.\n"
     ]
    }
   ],
   "source": [
    "print(\"\\nQuestion 8: Check if 25 exists in tuple (10, 20, 30, 40, 50)\")\n",
    "numbers = (10, 20, 30, 40, 50)\n",
    "if 25 in numbers:\n",
    "    print(\"25 exists in the tuple.\")\n",
    "else:\n",
    "    print(\"25 does not exist in the tuple.\")"
   ]
  },
  {
   "cell_type": "code",
   "execution_count": 9,
   "id": "a99a2f98",
   "metadata": {},
   "outputs": [
    {
     "name": "stdout",
     "output_type": "stream",
     "text": [
      "\n",
      "Question 9: Create a tuple of first 5 even numbers\n",
      "Tuple of first 5 even numbers: (2, 4, 6, 8, 10)\n"
     ]
    }
   ],
   "source": [
    "print(\"\\nQuestion 9: Create a tuple of first 5 even numbers\")\n",
    "even_numbers = tuple(range(2, 11, 2))\n",
    "\n",
    "print(\"Tuple of first 5 even numbers:\", even_numbers)"
   ]
  },
  {
   "cell_type": "code",
   "execution_count": 10,
   "id": "96955fbe",
   "metadata": {},
   "outputs": [
    {
     "name": "stdout",
     "output_type": "stream",
     "text": [
      "\n",
      "Question 10: Find the average of numbers in tuple (15, 23, 31, 42, 56, 78)\n",
      "Average of numbers: 40.833333333333336\n"
     ]
    }
   ],
   "source": [
    "print(\"\\nQuestion 10: Find the average of numbers in tuple (15, 23, 31, 42, 56, 78)\")\n",
    "numbers = (15, 23, 31, 42, 56, 78)\n",
    "\n",
    "average = sum(numbers) / len(numbers)\n",
    "print(\"Average of numbers:\", average)"
   ]
  },
  {
   "cell_type": "code",
   "execution_count": 11,
   "id": "9f403f74",
   "metadata": {},
   "outputs": [
    {
     "name": "stdout",
     "output_type": "stream",
     "text": [
      "Question 1: Create a set of first 10 natural numbers\n",
      "Set of first 10 natural numbers: {1, 2, 3, 4, 5, 6, 7, 8, 9, 10}\n"
     ]
    }
   ],
   "source": [
    "print(\"Question 1: Create a set of first 10 natural numbers\")\n",
    "natural_numbers = set(range(1, 11))\n",
    "\n",
    "print(\"Set of first 10 natural numbers:\", natural_numbers)"
   ]
  },
  {
   "cell_type": "code",
   "execution_count": null,
   "id": "30257ca9",
   "metadata": {},
   "outputs": [],
   "source": []
  }
 ],
 "metadata": {
  "kernelspec": {
   "display_name": "Python 3",
   "language": "python",
   "name": "python3"
  },
  "language_info": {
   "codemirror_mode": {
    "name": "ipython",
    "version": 3
   },
   "file_extension": ".py",
   "mimetype": "text/x-python",
   "name": "python",
   "nbconvert_exporter": "python",
   "pygments_lexer": "ipython3",
   "version": "3.11.9"
  }
 },
 "nbformat": 4,
 "nbformat_minor": 5
}
