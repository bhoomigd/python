{
 "cells": [
  {
   "cell_type": "code",
   "execution_count": 1,
   "id": "af658fb1",
   "metadata": {},
   "outputs": [
    {
     "name": "stdout",
     "output_type": "stream",
     "text": [
      "Question 1: Create a dictionary of student names and their ages\n",
      "Student dictionary: {'Alice': 20, 'Bob': 22, 'Charlie': 19, 'David': 21}\n"
     ]
    }
   ],
   "source": [
    "print(\"Question 1: Create a dictionary of student names and their ages\")\n",
    "students = {\n",
    "    \"Alice\": 20,\n",
    "    \"Bob\": 22,\n",
    "    \"Charlie\": 19,\n",
    "    \"David\": 21\n",
    "}\n",
    "\n",
    "# Print the dictionary\n",
    "print(\"Student dictionary:\", students)"
   ]
  },
  {
   "cell_type": "code",
   "execution_count": 2,
   "id": "2b43f634",
   "metadata": {},
   "outputs": [
    {
     "name": "stdout",
     "output_type": "stream",
     "text": [
      "\n",
      "Question 2: Add a new key-value pair to dictionary {'a': 1, 'b': 2, 'c': 3}\n",
      "Updated dictionary: {'a': 1, 'b': 2, 'c': 3, 'd': 4}\n"
     ]
    }
   ],
   "source": [
    "print(\"\\nQuestion 2: Add a new key-value pair to dictionary {'a': 1, 'b': 2, 'c': 3}\")\n",
    "my_dict = {'a': 1, 'b': 2, 'c': 3}\n",
    "\n",
    "# Add a new key-value pair\n",
    "my_dict['d'] = 4\n",
    "\n",
    "# Print updated dictionary\n",
    "print(\"Updated dictionary:\", my_dict)"
   ]
  },
  {
   "cell_type": "code",
   "execution_count": 3,
   "id": "6e667154",
   "metadata": {},
   "outputs": [
    {
     "name": "stdout",
     "output_type": "stream",
     "text": [
      "\n",
      "Question 3: Get all keys from dictionary {'name': 'John', 'age': 25, 'city': 'New York'}\n",
      "Keys of the dictionary: dict_keys(['name', 'age', 'city'])\n"
     ]
    }
   ],
   "source": [
    "print(\"\\nQuestion 3: Get all keys from dictionary {'name': 'John', 'age': 25, 'city': 'New York'}\")\n",
    "person = {'name': 'John', 'age': 25, 'city': 'New York'}\n",
    "\n",
    "# Get all keys\n",
    "keys = person.keys()\n",
    "\n",
    "# Print keys\n",
    "print(\"Keys of the dictionary:\", keys)"
   ]
  },
  {
   "cell_type": "code",
   "execution_count": 4,
   "id": "e7a42e2b",
   "metadata": {},
   "outputs": [
    {
     "name": "stdout",
     "output_type": "stream",
     "text": [
      "\n",
      "Question 4: Get all values from dictionary {'python': 3, 'java': 2, 'c++': 1}\n",
      "Values of the dictionary: dict_values([3, 2, 1])\n"
     ]
    }
   ],
   "source": [
    "print(\"\\nQuestion 4: Get all values from dictionary {'python': 3, 'java': 2, 'c++': 1}\")\n",
    "languages = {'python': 3, 'java': 2, 'c++': 1}\n",
    "\n",
    "# Get all values\n",
    "values = languages.values()\n",
    "\n",
    "# Print values\n",
    "print(\"Values of the dictionary:\", values)"
   ]
  },
  {
   "cell_type": "code",
   "execution_count": 5,
   "id": "438b1afe",
   "metadata": {},
   "outputs": [
    {
     "name": "stdout",
     "output_type": "stream",
     "text": [
      "\n",
      "Question 5: Check if key 'age' exists in {'name': 'Alice', 'age': 30, 'city': 'London'}\n",
      "Key 'age' exists in the dictionary.\n"
     ]
    }
   ],
   "source": [
    "print(\"\\nQuestion 5: Check if key 'age' exists in {'name': 'Alice', 'age': 30, 'city': 'London'}\")\n",
    "person = {'name': 'Alice', 'age': 30, 'city': 'London'}\n",
    "\n",
    "# Check if key 'age' exists\n",
    "if 'age' in person:\n",
    "    print(\"Key 'age' exists in the dictionary.\")\n",
    "else:\n",
    "    print(\"Key 'age' does not exist in the dictionary.\")"
   ]
  },
  {
   "cell_type": "code",
   "execution_count": 6,
   "id": "82684edb",
   "metadata": {},
   "outputs": [
    {
     "name": "stdout",
     "output_type": "stream",
     "text": [
      "\n",
      "Question 6: Remove key 'temp' from {'a': 1, 'b': 2, 'temp': 3, 'c': 4}\n",
      "Updated dictionary: {'a': 1, 'b': 2, 'c': 4}\n"
     ]
    }
   ],
   "source": [
    "print(\"\\nQuestion 6: Remove key 'temp' from {'a': 1, 'b': 2, 'temp': 3, 'c': 4}\")\n",
    "my_dict = {'a': 1, 'b': 2, 'temp': 3, 'c': 4}\n",
    "\n",
    "# Remove key 'temp'\n",
    "my_dict.pop('temp', None)  # Using pop with default avoids KeyError if key doesn't exist\n",
    "\n",
    "# Print updated dictionary\n",
    "print(\"Updated dictionary:\", my_dict)"
   ]
  },
  {
   "cell_type": "code",
   "execution_count": 7,
   "id": "02ceb1ab",
   "metadata": {},
   "outputs": [
    {
     "name": "stdout",
     "output_type": "stream",
     "text": [
      "\n",
      "Question 7: Find the sum of all values in {'math': 85, 'science': 92, 'english': 78}\n",
      "Sum of all values: 255\n"
     ]
    }
   ],
   "source": [
    "print(\"\\nQuestion 7: Find the sum of all values in {'math': 85, 'science': 92, 'english': 78}\")\n",
    "marks = {'math': 85, 'science': 92, 'english': 78}\n",
    "\n",
    "# Find sum of all values\n",
    "total = sum(marks.values())\n",
    "\n",
    "# Print result\n",
    "print(\"Sum of all values:\", total)"
   ]
  },
  {
   "cell_type": "code",
   "execution_count": 8,
   "id": "63517616",
   "metadata": {},
   "outputs": [
    {
     "name": "stdout",
     "output_type": "stream",
     "text": [
      "\n",
      "Question 8: Create a dictionary with squares of numbers 1 to 5\n",
      "Dictionary of squares: {1: 1, 2: 4, 3: 9, 4: 16, 5: 25}\n"
     ]
    }
   ],
   "source": [
    "print(\"\\nQuestion 8: Create a dictionary with squares of numbers 1 to 5\")\n",
    "squares = {x: x**2 for x in range(1, 6)}\n",
    "\n",
    "# Print the dictionary\n",
    "print(\"Dictionary of squares:\", squares)"
   ]
  },
  {
   "cell_type": "code",
   "execution_count": 9,
   "id": "ca0fb232",
   "metadata": {},
   "outputs": [
    {
     "name": "stdout",
     "output_type": "stream",
     "text": [
      "\n",
      "Question 9: Count frequency of each character in string 'hello'\n",
      "Character frequency: {'h': 1, 'e': 1, 'l': 2, 'o': 1}\n"
     ]
    }
   ],
   "source": [
    "print(\"\\nQuestion 9: Count frequency of each character in string 'hello'\")\n",
    "text = \"hello\"\n",
    "\n",
    "# Count frequency of each character\n",
    "freq = {}\n",
    "for char in text:\n",
    "    freq[char] = freq.get(char, 0) + 1\n",
    "\n",
    "# Print result\n",
    "print(\"Character frequency:\", freq)"
   ]
  },
  {
   "cell_type": "code",
   "execution_count": 10,
   "id": "8c0d5e04",
   "metadata": {},
   "outputs": [
    {
     "name": "stdout",
     "output_type": "stream",
     "text": [
      "\n",
      "Question 10: Merge two dictionaries {'a': 1, 'b': 2} and {'c': 3, 'd': 4}\n",
      "Merged dictionary: {'a': 1, 'b': 2, 'c': 3, 'd': 4}\n"
     ]
    }
   ],
   "source": [
    "print(\"\\nQuestion 10: Merge two dictionaries {'a': 1, 'b': 2} and {'c': 3, 'd': 4}\")\n",
    "dict1 = {'a': 1, 'b': 2}\n",
    "dict2 = {'c': 3, 'd': 4}\n",
    "\n",
    "# Merge dictionaries\n",
    "merged_dict = {**dict1, **dict2}\n",
    "\n",
    "# Print result\n",
    "print(\"Merged dictionary:\", merged_dict)\n"
   ]
  },
  {
   "cell_type": "code",
   "execution_count": 11,
   "id": "59b0a173",
   "metadata": {},
   "outputs": [
    {
     "name": "stdout",
     "output_type": "stream",
     "text": [
      "\n",
      "Question 11: Create a nested dictionary: {'person': {'name': 'Alice', 'age': 25}}\n",
      "Nested dictionary: {'person': {'name': 'Alice', 'age': 25}}\n"
     ]
    }
   ],
   "source": [
    "print(\"\\nQuestion 11: Create a nested dictionary: {'person': {'name': 'Alice', 'age': 25}}\")\n",
    "nested_dict = {'person': {'name': 'Alice', 'age': 25}}\n",
    "\n",
    "# Print the nested dictionary\n",
    "print(\"Nested dictionary:\", nested_dict)"
   ]
  },
  {
   "cell_type": "code",
   "execution_count": 12,
   "id": "edf8ea95",
   "metadata": {},
   "outputs": [
    {
     "name": "stdout",
     "output_type": "stream",
     "text": [
      "\n",
      "Question 12: Access nested value 'name' from {'person': {'name': 'Alice', 'age': 25}}\n",
      "Name: Alice\n"
     ]
    }
   ],
   "source": [
    "print(\"\\nQuestion 12: Access nested value 'name' from {'person': {'name': 'Alice', 'age': 25}}\")\n",
    "nested_dict = {'person': {'name': 'Alice', 'age': 25}}\n",
    "\n",
    "# Access nested value 'name'\n",
    "name_value = nested_dict['person']['name']\n",
    "\n",
    "# Print result\n",
    "print(\"Name:\", name_value)"
   ]
  },
  {
   "cell_type": "code",
   "execution_count": 14,
   "id": "ebd36dfe",
   "metadata": {},
   "outputs": [
    {
     "name": "stdout",
     "output_type": "stream",
     "text": [
      "\n",
      "Question 13: Create a dictionary with list values: {'fruits': ['apple', 'banana'], 'colors': ['red', 'blue']}\n",
      "Dictionary with list values: {'fruits': ['apple', 'banana'], 'colors': ['red', 'blue']}\n"
     ]
    }
   ],
   "source": [
    "print(\"\\nQuestion 13: Create a dictionary with list values: {'fruits': ['apple', 'banana'], 'colors': ['red', 'blue']}\")\n",
    "my_dict = {\n",
    "    'fruits': ['apple', 'banana'],\n",
    "    'colors': ['red', 'blue']\n",
    "}\n",
    "\n",
    "# Print the dictionary\n",
    "print(\"Dictionary with list values:\", my_dict)"
   ]
  },
  {
   "cell_type": "code",
   "execution_count": 15,
   "id": "7d810824",
   "metadata": {},
   "outputs": [
    {
     "name": "stdout",
     "output_type": "stream",
     "text": [
      "\n",
      "Question 14: Add 'orange' to the 'fruits' list in nested dictionary\n",
      "Updated dictionary: {'fruits': ['apple', 'banana', 'orange'], 'colors': ['red', 'blue']}\n"
     ]
    }
   ],
   "source": [
    "print(\"\\nQuestion 14: Add 'orange' to the 'fruits' list in nested dictionary\")\n",
    "my_dict = {\n",
    "    'fruits': ['apple', 'banana'],\n",
    "    'colors': ['red', 'blue']\n",
    "}\n",
    "\n",
    "# Add 'orange' to 'fruits' list\n",
    "my_dict['fruits'].append('orange')\n",
    "\n",
    "# Print updated dictionary\n",
    "print(\"Updated dictionary:\", my_dict)"
   ]
  },
  {
   "cell_type": "code",
   "execution_count": 16,
   "id": "f6e0448a",
   "metadata": {},
   "outputs": [
    {
     "name": "stdout",
     "output_type": "stream",
     "text": [
      "\n",
      "Question 15: Create a dictionary with tuple values: {'coordinates': (10, 20), 'rgb': (255, 0, 0)}\n",
      "Dictionary with tuple values: {'coordinates': (10, 20), 'rgb': (255, 0, 0)}\n"
     ]
    }
   ],
   "source": [
    "print(\"\\nQuestion 15: Create a dictionary with tuple values: {'coordinates': (10, 20), 'rgb': (255, 0, 0)}\")\n",
    "my_dict = {\n",
    "    'coordinates': (10, 20),\n",
    "    'rgb': (255, 0, 0)\n",
    "}\n",
    "\n",
    "# Print the dictionary\n",
    "print(\"Dictionary with tuple values:\", my_dict)"
   ]
  },
  {
   "cell_type": "code",
   "execution_count": 17,
   "id": "93489408",
   "metadata": {},
   "outputs": [
    {
     "name": "stdout",
     "output_type": "stream",
     "text": [
      "\n",
      "Question 16: Extract first coordinate from nested tuple\n",
      "First coordinate: (10, 20)\n"
     ]
    }
   ],
   "source": [
    "print(\"\\nQuestion 16: Extract first coordinate from nested tuple\")\n",
    "nested_tuple = ((10, 20), (30, 40), (50, 60))\n",
    "\n",
    "# Extract the first coordinate\n",
    "first_coordinate = nested_tuple[0]\n",
    "\n",
    "# Print result\n",
    "print(\"First coordinate:\", first_coordinate)"
   ]
  },
  {
   "cell_type": "code",
   "execution_count": 18,
   "id": "3e70a677",
   "metadata": {},
   "outputs": [
    {
     "name": "stdout",
     "output_type": "stream",
     "text": [
      "\n",
      "Question 17: Create a dictionary with set values: {'vowels': {'a', 'e', 'i'}, 'consonants': {'b', 'c', 'd'}}\n",
      "Dictionary with set values: {'vowels': {'e', 'i', 'a'}, 'consonants': {'d', 'c', 'b'}}\n"
     ]
    }
   ],
   "source": [
    "print(\"\\nQuestion 17: Create a dictionary with set values: {'vowels': {'a', 'e', 'i'}, 'consonants': {'b', 'c', 'd'}}\")\n",
    "my_dict = {\n",
    "    'vowels': {'a', 'e', 'i'},\n",
    "    'consonants': {'b', 'c', 'd'}\n",
    "}\n",
    "\n",
    "# Print the dictionary\n",
    "print(\"Dictionary with set values:\", my_dict)"
   ]
  },
  {
   "cell_type": "code",
   "execution_count": 19,
   "id": "33085026",
   "metadata": {},
   "outputs": [
    {
     "name": "stdout",
     "output_type": "stream",
     "text": [
      "\n",
      "Question 18: Add 'o' to vowels set in nested dictionary\n",
      "Updated dictionary: {'vowels': {'e', 'i', 'o', 'a'}, 'consonants': {'d', 'c', 'b'}}\n"
     ]
    }
   ],
   "source": [
    "print(\"\\nQuestion 18: Add 'o' to vowels set in nested dictionary\")\n",
    "my_dict = {\n",
    "    'vowels': {'a', 'e', 'i'},\n",
    "    'consonants': {'b', 'c', 'd'}\n",
    "}\n",
    "\n",
    "# Add 'o' to the 'vowels' set\n",
    "my_dict['vowels'].add('o')\n",
    "\n",
    "# Print updated dictionary\n",
    "print(\"Updated dictionary:\", my_dict)"
   ]
  },
  {
   "cell_type": "code",
   "execution_count": 20,
   "id": "3e8ce77c",
   "metadata": {},
   "outputs": [
    {
     "name": "stdout",
     "output_type": "stream",
     "text": [
      "\n",
      "Question 19: Create a 3-level nested dictionary: {'company': {'department': {'employee': {'name': 'John', 'id': 123}}}}\n",
      "3-level nested dictionary: {'company': {'department': {'employee': {'name': 'John', 'id': 123}}}}\n"
     ]
    }
   ],
   "source": [
    "print(\"\\nQuestion 19: Create a 3-level nested dictionary: {'company': {'department': {'employee': {'name': 'John', 'id': 123}}}}\")\n",
    "nested_dict = {\n",
    "    'company': {\n",
    "        'department': {\n",
    "            'employee': {\n",
    "                'name': 'John',\n",
    "                'id': 123\n",
    "            }\n",
    "        }\n",
    "    }\n",
    "}\n",
    "\n",
    "# Print the nested dictionary\n",
    "print(\"3-level nested dictionary:\", nested_dict)"
   ]
  },
  {
   "cell_type": "code",
   "execution_count": 21,
   "id": "6a445be1",
   "metadata": {},
   "outputs": [
    {
     "name": "stdout",
     "output_type": "stream",
     "text": [
      "\n",
      "Question 20: Access employee name from 3-level nested dictionary\n",
      "Employee name: John\n"
     ]
    }
   ],
   "source": [
    "print(\"\\nQuestion 20: Access employee name from 3-level nested dictionary\")\n",
    "nested_dict = {\n",
    "    'company': {\n",
    "        'department': {\n",
    "            'employee': {\n",
    "                'name': 'John',\n",
    "                'id': 123\n",
    "            }\n",
    "        }\n",
    "    }\n",
    "}\n",
    "\n",
    "# Access employee name\n",
    "employee_name = nested_dict['company']['department']['employee']['name']\n",
    "\n",
    "# Print result\n",
    "print(\"Employee name:\", employee_name)"
   ]
  },
  {
   "cell_type": "code",
   "execution_count": 22,
   "id": "9a27ee67",
   "metadata": {},
   "outputs": [
    {
     "name": "stdout",
     "output_type": "stream",
     "text": [
      "\n",
      "Question 21: Create a dictionary with mixed data types: {'int': 42, 'float': 3.14, 'str': 'hello', 'bool': True}\n",
      "Dictionary with mixed data types: {'int': 42, 'float': 3.14, 'str': 'hello', 'bool': True}\n"
     ]
    }
   ],
   "source": [
    "print(\"\\nQuestion 21: Create a dictionary with mixed data types: {'int': 42, 'float': 3.14, 'str': 'hello', 'bool': True}\")\n",
    "mixed_dict = {\n",
    "    'int': 42,\n",
    "    'float': 3.14,\n",
    "    'str': 'hello',\n",
    "    'bool': True\n",
    "}\n",
    "\n",
    "# Print the dictionary\n",
    "print(\"Dictionary with mixed data types:\", mixed_dict)"
   ]
  },
  {
   "cell_type": "code",
   "execution_count": 23,
   "id": "0b2f52a7",
   "metadata": {},
   "outputs": [
    {
     "name": "stdout",
     "output_type": "stream",
     "text": [
      "\n",
      "Question 22: Check data type of each value in mixed dictionary\n",
      "Key: int, Value: 42, Type: <class 'int'>\n",
      "Key: float, Value: 3.14, Type: <class 'float'>\n",
      "Key: str, Value: hello, Type: <class 'str'>\n",
      "Key: bool, Value: True, Type: <class 'bool'>\n"
     ]
    }
   ],
   "source": [
    "print(\"\\nQuestion 22: Check data type of each value in mixed dictionary\")\n",
    "mixed_dict = {\n",
    "    'int': 42,\n",
    "    'float': 3.14,\n",
    "    'str': 'hello',\n",
    "    'bool': True\n",
    "}\n",
    "\n",
    "# Check data type of each value\n",
    "for key, value in mixed_dict.items():\n",
    "    print(f\"Key: {key}, Value: {value}, Type: {type(value)}\")"
   ]
  },
  {
   "cell_type": "code",
   "execution_count": 24,
   "id": "f55d2a9b",
   "metadata": {},
   "outputs": [
    {
     "name": "stdout",
     "output_type": "stream",
     "text": [
      "\n",
      "Question 23: Create a dictionary with function values: {'len': len, 'str': str, 'int': int}\n",
      "Dictionary with function values: {'len': <built-in function len>, 'str': <class 'str'>, 'int': <class 'int'>}\n",
      "len('hello') = 5\n",
      "str(123) = {'len': <built-in function len>, 'str': <class 'str'>, 'int': <class 'int'>}\n",
      "int('456') = 456\n"
     ]
    }
   ],
   "source": [
    "print(\"\\nQuestion 23: Create a dictionary with function values: {'len': len, 'str': str, 'int': int}\")\n",
    "func_dict = {\n",
    "    'len': len,\n",
    "    'str': str,\n",
    "    'int': int\n",
    "}\n",
    "\n",
    "# Print the dictionary\n",
    "print(\"Dictionary with function values:\", func_dict)\n",
    "\n",
    "# Example usage: call the functions\n",
    "print(\"len('hello') =\", func_dict['len']('hello'))\n",
    "print(\"str(123) =\", func_dict )\n",
    "print(\"int('456') =\", func_dict['int']('456'))"
   ]
  },
  {
   "cell_type": "code",
   "execution_count": 25,
   "id": "b783c990",
   "metadata": {},
   "outputs": [
    {
     "name": "stdout",
     "output_type": "stream",
     "text": [
      "\n",
      "Question 24: Apply each function to '123' using dictionary\n",
      "len('123') = 3\n",
      "str('123') = 123\n",
      "int('123') = 123\n"
     ]
    }
   ],
   "source": [
    "print(\"\\nQuestion 24: Apply each function to '123' using dictionary\")\n",
    "func_dict = {\n",
    "    'len': len,\n",
    "    'str': str,\n",
    "    'int': int\n",
    "}\n",
    "\n",
    "# Apply each function to '123'\n",
    "for name, func in func_dict.items():\n",
    "    result = func('123')\n",
    "    print(f\"{name}('123') = {result}\")"
   ]
  },
  {
   "cell_type": "code",
   "execution_count": 26,
   "id": "96d8c0a5",
   "metadata": {},
   "outputs": [
    {
     "name": "stdout",
     "output_type": "stream",
     "text": [
      "\n",
      "Question 25: Create a dictionary with lambda functions: {'double': lambda x: x*2, 'square': lambda x: x**2}\n",
      "Dictionary with lambda functions: {'double': <function <lambda> at 0x000002437E273920>, 'square': <function <lambda> at 0x000002437E2732E0>}\n",
      "double(5) = {'double': <function <lambda> at 0x000002437E273920>, 'square': <function <lambda> at 0x000002437E2732E0>}\n",
      "square(5) = {'double': <function <lambda> at 0x000002437E273920>, 'square': <function <lambda> at 0x000002437E2732E0>}\n"
     ]
    }
   ],
   "source": [
    "print(\"\\nQuestion 25: Create a dictionary with lambda functions: {'double': lambda x: x*2, 'square': lambda x: x**2}\")\n",
    "func_dict = {\n",
    "    'double': lambda x: x * 2,\n",
    "    'square': lambda x: x ** 2\n",
    "}\n",
    "\n",
    "# Print dictionary\n",
    "print(\"Dictionary with lambda functions:\", func_dict)\n",
    "\n",
    "# Example usage\n",
    "print(\"double(5) =\", func_dict )\n",
    "print(\"square(5) =\", func_dict )"
   ]
  },
  {
   "cell_type": "code",
   "execution_count": 2,
   "id": "f7005427",
   "metadata": {},
   "outputs": [
    {
     "name": "stdout",
     "output_type": "stream",
     "text": [
      "\n",
      "Question 26: Apply each lambda function to 5\n",
      "double(5) = {'double': <function <lambda> at 0x0000021D543AF2E0>, 'square': <function <lambda> at 0x0000021D543AF380>}\n",
      "square(5) = {'double': <function <lambda> at 0x0000021D543AF2E0>, 'square': <function <lambda> at 0x0000021D543AF380>}\n"
     ]
    }
   ],
   "source": [
    "print(\"\\nQuestion 26: Apply each lambda function to 5\")\n",
    "func_dict = {\n",
    "    'double': lambda x: x * 2,\n",
    "    'square': lambda x: x ** 2\n",
    "}\n",
    "\n",
    "# Apply each function to 5\n",
    "print(\"double(5) =\", func_dict )\n",
    "print(\"square(5) =\", func_dict )\n"
   ]
  },
  {
   "cell_type": "code",
   "execution_count": 3,
   "id": "7ebf235c",
   "metadata": {},
   "outputs": [
    {
     "name": "stdout",
     "output_type": "stream",
     "text": [
      "\n",
      "Question 27: Create a dictionary with class values: {'list': list, 'dict': dict, 'set': set}\n",
      "{'list': <class 'list'>, 'dict': <class 'dict'>, 'set': <class 'set'>}\n"
     ]
    }
   ],
   "source": [
    "print(\"\\nQuestion 27: Create a dictionary with class values: {'list': list, 'dict': dict, 'set': set}\")\n",
    "class_dict = {\n",
    "    'list': list,\n",
    "    'dict': dict,\n",
    "    'set': set\n",
    "}\n",
    "\n",
    "# Display the dictionary\n",
    "print(class_dict)"
   ]
  },
  {
   "cell_type": "code",
   "execution_count": 4,
   "id": "e4e54cc1",
   "metadata": {},
   "outputs": [
    {
     "name": "stdout",
     "output_type": "stream",
     "text": [
      "\n",
      "Question 28: Create instances using class dictionary\n",
      "List instance: [1, 2, 3]\n",
      "Dict instance: {'name': 'Alice', 'age': 25}\n",
      "Set instance: {1, 2, 3}\n"
     ]
    }
   ],
   "source": [
    "print(\"\\nQuestion 28: Create instances using class dictionary\")\n",
    "class_dict = {\n",
    "    'list': list,\n",
    "    'dict': dict,\n",
    "    'set': set\n",
    "}\n",
    "\n",
    "# Create instances from the classes\n",
    "list_instance = class_dict['list']([1, 2, 3])\n",
    "dict_instance = class_dict['dict'](name=\"Alice\", age=25)\n",
    "set_instance = class_dict['set']({1, 2, 3})\n",
    "\n",
    "# Display the created instances\n",
    "print(\"List instance:\", list_instance)\n",
    "print(\"Dict instance:\", dict_instance)\n",
    "print(\"Set instance:\", set_instance)"
   ]
  },
  {
   "cell_type": "code",
   "execution_count": 5,
   "id": "6490657f",
   "metadata": {},
   "outputs": [
    {
     "name": "stdout",
     "output_type": "stream",
     "text": [
      "\n",
      "Question 29: Create a dictionary with None values: {'a': None, 'b': None, 'c': None}\n",
      "{'a': None, 'b': None, 'c': None}\n"
     ]
    }
   ],
   "source": [
    "print(\"\\nQuestion 29: Create a dictionary with None values: {'a': None, 'b': None, 'c': None}\")\n",
    "my_dict = {\n",
    "    'a': None,\n",
    "    'b': None,\n",
    "    'c': None\n",
    "}\n",
    "\n",
    "# Display the dictionary\n",
    "print(my_dict)"
   ]
  },
  {
   "cell_type": "code",
   "execution_count": 6,
   "id": "7e42727c",
   "metadata": {},
   "outputs": [
    {
     "name": "stdout",
     "output_type": "stream",
     "text": [
      "\n",
      "Question 30: Replace all None values with 0\n",
      "{'a': 0, 'b': 0, 'c': 0}\n"
     ]
    }
   ],
   "source": [
    "print(\"\\nQuestion 30: Replace all None values with 0\")\n",
    "my_dict = {'a': None, 'b': None, 'c': None}\n",
    "\n",
    "# Replace all None values with 0\n",
    "my_dict = {key: 0 if value is None else value for key, value in my_dict.items()}\n",
    "\n",
    "# Display updated dictionary\n",
    "print(my_dict)"
   ]
  },
  {
   "cell_type": "code",
   "execution_count": 7,
   "id": "a9a07b45",
   "metadata": {},
   "outputs": [
    {
     "name": "stdout",
     "output_type": "stream",
     "text": [
      "\n",
      "Question 31: Create a dictionary with boolean values: {'is_active': True, 'is_admin': False}\n",
      "{'is_active': True, 'is_admin': False}\n"
     ]
    }
   ],
   "source": [
    "print(\"\\nQuestion 31: Create a dictionary with boolean values: {'is_active': True, 'is_admin': False}\")\n",
    "status = {'is_active': True, 'is_admin': False}\n",
    "\n",
    "# Display dictionary\n",
    "print(status)\n"
   ]
  },
  {
   "cell_type": "code",
   "execution_count": 8,
   "id": "ddcd6727",
   "metadata": {},
   "outputs": [
    {
     "name": "stdout",
     "output_type": "stream",
     "text": [
      "\n",
      "Question 32: Count True values in boolean dictionary\n",
      "Number of True values: 2\n"
     ]
    }
   ],
   "source": [
    "print(\"\\nQuestion 32: Count True values in boolean dictionary\")\n",
    "status = {'is_active': True, 'is_admin': False, 'is_verified': True}\n",
    "\n",
    "# Count True values\n",
    "true_count = sum(value is True for value in status.values())\n",
    "\n",
    "print(\"Number of True values:\", true_count)"
   ]
  },
  {
   "cell_type": "code",
   "execution_count": 9,
   "id": "4a4558aa",
   "metadata": {},
   "outputs": [
    {
     "name": "stdout",
     "output_type": "stream",
     "text": [
      "\n",
      "Question 33: Create a dictionary with complex numbers: {'z1': 3+4j, 'z2': 1+2j}\n",
      "{'z1': (3+4j), 'z2': (1+2j)}\n"
     ]
    }
   ],
   "source": [
    "print(\"\\nQuestion 33: Create a dictionary with complex numbers: {'z1': 3+4j, 'z2': 1+2j}\")\n",
    "complex_dict = {'z1': 3 + 4j, 'z2': 1 + 2j}\n",
    "\n",
    "print(complex_dict)"
   ]
  },
  {
   "cell_type": "code",
   "execution_count": 10,
   "id": "ee9f3353",
   "metadata": {},
   "outputs": [
    {
     "name": "stdout",
     "output_type": "stream",
     "text": [
      "\n",
      "Question 34: Find magnitude of each complex number\n",
      "{'z1': 5.0, 'z2': 2.23606797749979}\n"
     ]
    }
   ],
   "source": [
    "print(\"\\nQuestion 34: Find magnitude of each complex number\")\n",
    "complex_dict = {'z1': 3 + 4j, 'z2': 1 + 2j}\n",
    "\n",
    "# Find magnitude of each complex number\n",
    "magnitudes = {key: abs(value) for key, value in complex_dict.items()}\n",
    "\n",
    "print(magnitudes)"
   ]
  },
  {
   "cell_type": "code",
   "execution_count": 11,
   "id": "268b0481",
   "metadata": {},
   "outputs": [
    {
     "name": "stdout",
     "output_type": "stream",
     "text": [
      "\n",
      "Question 35: Create a 4-level nested dictionary\n",
      "{'level1': {'level2': {'level3': {'level4': 'Deep Value'}}}}\n"
     ]
    }
   ],
   "source": [
    "print(\"\\nQuestion 35: Create a 4-level nested dictionary\")\n",
    "nested_dict = {\n",
    "    'level1': {\n",
    "        'level2': {\n",
    "            'level3': {\n",
    "                'level4': 'Deep Value'\n",
    "            }\n",
    "        }\n",
    "    }\n",
    "}\n",
    "\n",
    "print(nested_dict)"
   ]
  },
  {
   "cell_type": "code",
   "execution_count": null,
   "id": "749d824c",
   "metadata": {},
   "outputs": [],
   "source": []
  }
 ],
 "metadata": {
  "kernelspec": {
   "display_name": "Python 3",
   "language": "python",
   "name": "python3"
  },
  "language_info": {
   "codemirror_mode": {
    "name": "ipython",
    "version": 3
   },
   "file_extension": ".py",
   "mimetype": "text/x-python",
   "name": "python",
   "nbconvert_exporter": "python",
   "pygments_lexer": "ipython3",
   "version": "3.11.9"
  }
 },
 "nbformat": 4,
 "nbformat_minor": 5
}
