{
 "cells": [
  {
   "cell_type": "code",
   "execution_count": null,
   "id": "0148c72a",
   "metadata": {},
   "outputs": [],
   "source": []
  },
  {
   "cell_type": "code",
   "execution_count": 20,
   "id": "89c89aa8",
   "metadata": {},
   "outputs": [
    {
     "data": {
      "text/plain": [
       "3"
      ]
     },
     "execution_count": 20,
     "metadata": {},
     "output_type": "execute_result"
    }
   ],
   "source": [
    "2+1\n"
   ]
  },
  {
   "cell_type": "code",
   "execution_count": 21,
   "id": "79745be3",
   "metadata": {},
   "outputs": [
    {
     "name": "stdout",
     "output_type": "stream",
     "text": [
      "2\n"
     ]
    }
   ],
   "source": [
    "a=(2)\n",
    "print(a)"
   ]
  },
  {
   "cell_type": "code",
   "execution_count": 22,
   "id": "4731fb2a",
   "metadata": {},
   "outputs": [
    {
     "data": {
      "text/plain": [
       "100"
      ]
     },
     "execution_count": 22,
     "metadata": {},
     "output_type": "execute_result"
    }
   ],
   "source": [
    "int(10**2)"
   ]
  },
  {
   "cell_type": "code",
   "execution_count": 23,
   "id": "af5b2629",
   "metadata": {},
   "outputs": [
    {
     "data": {
      "text/plain": [
       "6.0"
      ]
     },
     "execution_count": 23,
     "metadata": {},
     "output_type": "execute_result"
    }
   ],
   "source": [
    "float(6)"
   ]
  },
  {
   "cell_type": "code",
   "execution_count": 24,
   "id": "2c671b69",
   "metadata": {},
   "outputs": [
    {
     "ename": "SyntaxError",
     "evalue": "invalid syntax (2542935041.py, line 1)",
     "output_type": "error",
     "traceback": [
      "  \u001b[36mCell\u001b[39m\u001b[36m \u001b[39m\u001b[32mIn[24]\u001b[39m\u001b[32m, line 1\u001b[39m\n\u001b[31m    \u001b[39m\u001b[31mint a(1,2,3)\u001b[39m\n        ^\n\u001b[31mSyntaxError\u001b[39m\u001b[31m:\u001b[39m invalid syntax\n"
     ]
    }
   ],
   "source": [
    "int a(1,2,3)\n",
    "int b(3,5,6)\n",
    "print(zip(a,b))"
   ]
  },
  {
   "cell_type": "code",
   "execution_count": null,
   "id": "c85aa9ae",
   "metadata": {},
   "outputs": [
    {
     "name": "stdout",
     "output_type": "stream",
     "text": [
      "SOLVED EXAMPLE:\n",
      "Calculate the sum of first 5 even numbers\n",
      "First 5 even numbers: [2, 4, 6, 8, 10]\n",
      "Sum: 30\n"
     ]
    }
   ],
   "source": [
    "print(\"SOLVED EXAMPLE:\")\n",
    "print(\"Calculate the sum of first 5 even numbers\")\n",
    "first_5_even = [2, 4, 6, 8, 10]\n",
    "sum_even = sum(first_5_even)\n",
    "print(f\"First 5 even numbers: {first_5_even}\")\n",
    "print(f\"Sum: {sum_even}\")"
   ]
  },
  {
   "cell_type": "code",
   "execution_count": null,
   "id": "b65b6889",
   "metadata": {},
   "outputs": [
    {
     "name": "stdout",
     "output_type": "stream",
     "text": [
      "product of first 10 natural numbers: 3628800\n"
     ]
    }
   ],
   "source": [
    "prod=1\n",
    "for i in range(1,11):\n",
    "    prod*=i\n",
    "print(\"product of first 10 natural numbers:\",prod)"
   ]
  },
  {
   "cell_type": "code",
   "execution_count": 25,
   "id": "d0c5410b",
   "metadata": {},
   "outputs": [
    {
     "name": "stdout",
     "output_type": "stream",
     "text": [
      "Remainder when 156 is divided by 7 is: 2\n"
     ]
    }
   ],
   "source": [
    "num=156\n",
    "divisor = 7\n",
    "remainder = num % divisor\n",
    "print(\"Remainder when\", num, \"is divided by\", divisor, \"is:\", remainder)"
   ]
  },
  {
   "cell_type": "code",
   "execution_count": 26,
   "id": "fbae56a1",
   "metadata": {},
   "outputs": [
    {
     "name": "stdout",
     "output_type": "stream",
     "text": [
      "\n",
      "Question 2: Find the remainder when 156 is divided by 7\n",
      "\n",
      " The remainder when 156 is divided by 7 is 2\n"
     ]
    }
   ],
   "source": [
    "print(\"\\nQuestion 2: Find the remainder when 156 is divided by 7\")\n",
    "remainder = 156 % 7\n",
    "print(f\"\\n The remainder when 156 is divided by 7 is {remainder}\")\n"
   ]
  },
  {
   "cell_type": "code",
   "execution_count": 27,
   "id": "12e5b100",
   "metadata": {},
   "outputs": [
    {
     "name": "stdout",
     "output_type": "stream",
     "text": [
      "\n",
      "Question 3: Calculate the square of 25\n",
      " The square of 25 is 625\n"
     ]
    }
   ],
   "source": [
    "print(\"\\nQuestion 3: Calculate the square of 25\")\n",
    "num=25**2\n",
    "print(f\" The square of 25 is {num}\")\n"
   ]
  },
  {
   "cell_type": "code",
   "execution_count": 28,
   "id": "acf37fd8",
   "metadata": {},
   "outputs": [
    {
     "name": "stdout",
     "output_type": "stream",
     "text": [
      "\n",
      " Question 4: Find the cube root of 125\n",
      " The cube root of 125 is 5.0\n"
     ]
    }
   ],
   "source": [
    "print(\"\\n Question 4: Find the cube root of 125\")\n",
    "num = 125**(1/3)\n",
    "print(f\" The cube root of 125 is {num}\")\n"
   ]
  },
  {
   "cell_type": "code",
   "execution_count": 29,
   "id": "3ad81cfb",
   "metadata": {},
   "outputs": [
    {
     "name": "stdout",
     "output_type": "stream",
     "text": [
      "\n",
      " Question 5:Calculate the sum of digits in number 12345\n",
      "the sum of digits in number 12345 is 15\n"
     ]
    }
   ],
   "source": [
    "print(\"\\n Question 5:Calculate the sum of digits in number 12345\")\n",
    "num = [1, 2 ,3, 4, 5]\n",
    "sum_of_digits = sum(num)\n",
    "print(f\"the sum of digits in number 12345 is {sum_of_digits}\")\n"
   ]
  },
  {
   "cell_type": "code",
   "execution_count": 31,
   "id": "9b623b5f",
   "metadata": {},
   "outputs": [
    {
     "name": "stdout",
     "output_type": "stream",
     "text": [
      "\n",
      "Question 6: Check if 97 is a prime number\n",
      "97 is a prime number.\n"
     ]
    }
   ],
   "source": [
    "print(\"\\nQuestion 6: Check if 97 is a prime number\")\n",
    "\n",
    "def is_prime(number):\n",
    "    if number <= 1:\n",
    "        return False\n",
    "    for i in range(2, int(number**0.5) + 1):\n",
    "        if number % i == 0:\n",
    "            return False\n",
    "    return True\n",
    "\n",
    "number = 97\n",
    "if is_prime(number):\n",
    "    print(f\"{number} is a prime number.\")\n",
    "else:\n",
    "    print(f\"{number} is not a prime number.\")"
   ]
  },
  {
   "cell_type": "code",
   "execution_count": null,
   "id": "94362208",
   "metadata": {},
   "outputs": [
    {
     "name": "stdout",
     "output_type": "stream",
     "text": [
      "\n",
      "Question 7: Find the factorial of 8\n",
      "Factorial of 8 is 40320\n"
     ]
    }
   ],
   "source": [
    "print(\"\\nQuestion 7: Find the factorial of 8\")\n",
    "import math\n",
    "\n",
    "print(\"Factorial of 8 is\", math.factorial(8))\n"
   ]
  },
  {
   "cell_type": "code",
   "execution_count": 34,
   "id": "c451efd2",
   "metadata": {},
   "outputs": [
    {
     "name": "stdout",
     "output_type": "stream",
     "text": [
      "\n",
      "Question 8: Calculate the average of numbers: 15, 23, 31, 42, 56\n",
      "The average of the numbers (15, 23, 31, 42, 56) is 33.4\n"
     ]
    }
   ],
   "source": [
    "print(\"\\nQuestion 8: Calculate the average of numbers: 15, 23, 31, 42, 56\")\n",
    "num = [15, 23, 31, 42, 56]\n",
    "sum_num=sum(num)\n",
    "n = len(num) \n",
    "average = (sum_num)/n\n",
    "print(f\"The average of the numbers (15, 23, 31, 42, 56) is {average}\")\n",
    "\n"
   ]
  },
  {
   "cell_type": "code",
   "execution_count": 35,
   "id": "b279d0c2",
   "metadata": {},
   "outputs": [
    {
     "name": "stdout",
     "output_type": "stream",
     "text": [
      "\n",
      "Question 9: Find the greatest common divisor (GCD) of 48 and 36\n",
      "the greatest common divisor (GCD) of 48 and 36 is 12\n"
     ]
    }
   ],
   "source": [
    "print(\"\\nQuestion 9: Find the greatest common divisor (GCD) of 48 and 36\")\n",
    "\n",
    "import math\n",
    "\n",
    "a = 48\n",
    "b = 36\n",
    "gcd = math.gcd(a,b)\n",
    "\n",
    "print(f\"the greatest common divisor (GCD) of 48 and 36 is {gcd}\")\n"
   ]
  },
  {
   "cell_type": "code",
   "execution_count": 37,
   "id": "9df5d0d3",
   "metadata": {},
   "outputs": [
    {
     "name": "stdout",
     "output_type": "stream",
     "text": [
      "\n",
      "Question 10: Calculate the sum of first 20 odd numbers\n",
      "The sum of first 20 odd numbers is 400 \n"
     ]
    }
   ],
   "source": [
    "print(\"\\nQuestion 10: Calculate the sum of first 20 odd numbers\")\n",
    "num = 20\n",
    "  # formula to calculate sum of n odd numbers is (n)^2 #\n",
    "sum_of_odd = num**2\n",
    "print(f\"The sum of first 20 odd numbers is {sum_of_odd} \")"
   ]
  },
  {
   "cell_type": "code",
   "execution_count": 38,
   "id": "4570321b",
   "metadata": {},
   "outputs": [
    {
     "name": "stdout",
     "output_type": "stream",
     "text": [
      "\n",
      "Question 10: Calculate the sum of first 20 odd numbers\n",
      "the first 20 odd numbers are [1, 3, 5, 7, 9, 11, 13, 15, 17, 19, 21, 23, 25, 27, 29, 31, 33, 35, 37, 39]\n",
      "Sum of first 20 odd numbers is 400\n"
     ]
    }
   ],
   "source": [
    "print(\"\\nQuestion 10: Calculate the sum of first 20 odd numbers\")\n",
    "odd_numbers = [2 * i + 1 for i in range(20)]\n",
    "print(f\"the first 20 odd numbers are {odd_numbers}\")\n",
    "sum_num=sum(odd_numbers)\n",
    "print(f\"Sum of first 20 odd numbers is {sum_num}\")\n"
   ]
  },
  {
   "cell_type": "code",
   "execution_count": null,
   "id": "67d2139e",
   "metadata": {},
   "outputs": [],
   "source": []
  }
 ],
 "metadata": {
  "kernelspec": {
   "display_name": "Python 3",
   "language": "python",
   "name": "python3"
  },
  "language_info": {
   "codemirror_mode": {
    "name": "ipython",
    "version": 3
   },
   "file_extension": ".py",
   "mimetype": "text/x-python",
   "name": "python",
   "nbconvert_exporter": "python",
   "pygments_lexer": "ipython3",
   "version": "3.11.9"
  }
 },
 "nbformat": 4,
 "nbformat_minor": 5
}
