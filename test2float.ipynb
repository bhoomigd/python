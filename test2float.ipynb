{
 "cells": [
  {
   "cell_type": "code",
   "execution_count": 1,
   "id": "af3d919b",
   "metadata": {},
   "outputs": [
    {
     "name": "stdout",
     "output_type": "stream",
     "text": [
      "Question 1: Calculate the average of 3.14, 2.718, 1.618, 0.577\n",
      "the average of given numbers is 2.0133\n"
     ]
    }
   ],
   "source": [
    "print(\"Question 1: Calculate the average of 3.14, 2.718, 1.618, 0.577\")\n",
    "num = [3.14, 2.718, 1.618, 0.577]\n",
    "n = len(num)\n",
    "sum_num = sum(num)\n",
    "average = (sum(num))/n\n",
    "\n",
    "print(f\"the average of given numbers is {average:.4f}\")\n"
   ]
  },
  {
   "cell_type": "code",
   "execution_count": 2,
   "id": "357267f5",
   "metadata": {},
   "outputs": [
    {
     "name": "stdout",
     "output_type": "stream",
     "text": [
      "\n",
      "Question 2: Convert 98.6 Fahrenheit to Celsius\n",
      "37.0\n"
     ]
    }
   ],
   "source": [
    "print(\"\\nQuestion 2: Convert 98.6 Fahrenheit to Celsius\")\n",
    " # (F = C * 9/5 + 32) #\n",
    "Fahrenheit = 98.6\n",
    "Celsius = 5/9*(Fahrenheit - 32)\n",
    "print(Celsius)"
   ]
  },
  {
   "cell_type": "code",
   "execution_count": 15,
   "id": "255ebdcf",
   "metadata": {},
   "outputs": [
    {
     "name": "stdout",
     "output_type": "stream",
     "text": [
      "\n",
      "Question 3: Calculate compound interest on $1000 at 5.5% for 3 years\n",
      "Compound Interest after 3 years is: $174.241\n",
      "Total Amount after 3 years is: $1174.241\n"
     ]
    }
   ],
   "source": [
    "print(\"\\nQuestion 3: Calculate compound interest on $1000 at 5.5% for 3 years\")\n",
    "P = 1000        # Principal\n",
    "r = 5.5         # Interest rate (%)\n",
    "t = 3           # Time (years)\n",
    "\n",
    "# Compound interest calculation\n",
    "A = P * (1 + r / 100) ** t\n",
    "CI = A - P\n",
    "\n",
    "# Output\n",
    "print(f\"Compound Interest after {t} years is: ${CI:.3f}\")\n",
    "print(f\"Total Amount after {t} years is: ${A:.3f}\")\n"
   ]
  },
  {
   "cell_type": "code",
   "execution_count": 4,
   "id": "8bc50203",
   "metadata": {},
   "outputs": [
    {
     "name": "stdout",
     "output_type": "stream",
     "text": [
      "\n",
      "Question 3: Calculate compound interest on $1000 at 5.5% for 3 years\n",
      "Compound Interest after 3 years is: $174.24\n",
      "Total Amount after 3 years is: $1174.24\n"
     ]
    }
   ],
   "source": [
    "print(\"\\nQuestion 3: Calculate compound interest on $1000 at 5.5% for 3 years\")\n",
    "P = 1000        # Principal\n",
    "r = 5.5         # Interest rate (%)\n",
    "t = 3           # Time (years)\n",
    "\n",
    "# Compound interest calculation\n",
    "A = P * (1 + r / 100) ** t\n",
    "CI = A - P\n",
    "\n",
    "# Output\n",
    "print(f\"Compound Interest after {t} years is: ${CI:.2f}\")\n",
    "print(f\"Total Amount after {t} years is: ${A:.2f}\")"
   ]
  },
  {
   "cell_type": "code",
   "execution_count": 14,
   "id": "b9164246",
   "metadata": {},
   "outputs": [
    {
     "name": "stdout",
     "output_type": "stream",
     "text": [
      "\n",
      "Question 4: Find the hypotenuse of a right triangle with sides 3.5 and 4.2\n",
      "the hypotensuse of the right angled trinagle is 5.467\n"
     ]
    }
   ],
   "source": [
    "print(\"\\nQuestion 4: Find the hypotenuse of a right triangle with sides 3.5 and 4.2\")\n",
    "a=3.5\n",
    "b=4.2\n",
    "hypotenuse=math.sqrt(a**2 + b**2)\n",
    "print(f\"the hypotensuse of the right angled trinagle is {hypotenuse:.3f}\")"
   ]
  },
  {
   "cell_type": "code",
   "execution_count": 6,
   "id": "775c38c6",
   "metadata": {},
   "outputs": [
    {
     "name": "stdout",
     "output_type": "stream",
     "text": [
      "\n",
      "Question 5: Calculate the volume of a sphere with radius 7.8\n",
      "The volume of a sphere with radius 7.8 is 1987.7988\n"
     ]
    }
   ],
   "source": [
    "\n",
    "import math\n",
    "print(\"\\nQuestion 5: Calculate the volume of a sphere with radius 7.8\")\n",
    "r = 7.8\n",
    "volume_of_sphere = 4/3*(math.pi*r**3)\n",
    "print(f\"The volume of a sphere with radius 7.8 is {volume_of_sphere:.4f}\")\n"
   ]
  },
  {
   "cell_type": "code",
   "execution_count": 7,
   "id": "cf445f1a",
   "metadata": {},
   "outputs": [
    {
     "name": "stdout",
     "output_type": "stream",
     "text": [
      "\n",
      "Question 6: Round 3.14159 to 3 decimal places\n",
      "3.142\n"
     ]
    }
   ],
   "source": [
    "print(\"\\nQuestion 6: Round 3.14159 to 3 decimal places\")\n",
    "num = 3.14159\n",
    "print(f\"{num:.3f}\")\n"
   ]
  },
  {
   "cell_type": "code",
   "execution_count": 8,
   "id": "370a48f0",
   "metadata": {},
   "outputs": [
    {
     "name": "stdout",
     "output_type": "stream",
     "text": [
      "\n",
      "Question 7: Calculate the percentage: 45 out of 67\n",
      "The percentage: 45 out of 67 is 67.16%\n"
     ]
    }
   ],
   "source": [
    "print(\"\\nQuestion 7: Calculate the percentage: 45 out of 67\")\n",
    "percentage = (45/67)*100\n",
    "print(f\"The percentage: 45 out of 67 is {percentage:.2f}%\")\n"
   ]
  },
  {
   "cell_type": "code",
   "execution_count": 9,
   "id": "9beece4b",
   "metadata": {},
   "outputs": [
    {
     "name": "stdout",
     "output_type": "stream",
     "text": [
      "\n",
      "Question 8: Find the square root of 23.456\n",
      "The square root of 23.456 is 4.84\n"
     ]
    }
   ],
   "source": [
    "print(\"\\nQuestion 8: Find the square root of 23.456\")\n",
    "num = 23.456\n",
    "square_root = num**(1/2)\n",
    "print(f\"The square root of 23.456 is {square_root:.2f}\")\n"
   ]
  },
  {
   "cell_type": "code",
   "execution_count": 10,
   "id": "2c52e148",
   "metadata": {},
   "outputs": [
    {
     "name": "stdout",
     "output_type": "stream",
     "text": [
      "\n",
      "Question 9: Calculate simple interest: Principal=2500, Rate=6.5%, Time=2.5 years\n",
      "simple intrest = 406.25\n"
     ]
    }
   ],
   "source": [
    "print(\"\\nQuestion 9: Calculate simple interest: Principal=2500, Rate=6.5%, Time=2.5 years\")\n",
    "P=2500\n",
    "R=6.5\n",
    "T=2.5\n",
    "simple_intrest = (P * R * T) / 100\n",
    "print(f\"simple intrest = {simple_intrest:.2f}\")\n"
   ]
  },
  {
   "cell_type": "code",
   "execution_count": 11,
   "id": "0e2e8de3",
   "metadata": {},
   "outputs": [
    {
     "name": "stdout",
     "output_type": "stream",
     "text": [
      "\n",
      "Question 10: Convert 45.7 degrees to radians\n",
      "45.7 degrees to radians is 0.798\n"
     ]
    }
   ],
   "source": [
    "print(\"\\nQuestion 10: Convert 45.7 degrees to radians\")\n",
    "\n",
    "import math\n",
    "degrees = 45.7\n",
    "radians = math.radians(degrees)\n",
    "print(f\"45.7 degrees to radians is {radians:.3f}\")\n",
    "\n",
    "\n"
   ]
  },
  {
   "cell_type": "code",
   "execution_count": null,
   "id": "5ca2078c",
   "metadata": {},
   "outputs": [],
   "source": []
  }
 ],
 "metadata": {
  "kernelspec": {
   "display_name": "Python 3",
   "language": "python",
   "name": "python3"
  },
  "language_info": {
   "codemirror_mode": {
    "name": "ipython",
    "version": 3
   },
   "file_extension": ".py",
   "mimetype": "text/x-python",
   "name": "python",
   "nbconvert_exporter": "python",
   "pygments_lexer": "ipython3",
   "version": "3.11.9"
  }
 },
 "nbformat": 4,
 "nbformat_minor": 5
}
