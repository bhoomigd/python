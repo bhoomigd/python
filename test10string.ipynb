{
 "cells": [
  {
   "cell_type": "code",
   "execution_count": 1,
   "id": "6dc9a226",
   "metadata": {},
   "outputs": [
    {
     "name": "stdout",
     "output_type": "stream",
     "text": [
      "Question 1: Reverse the string 'Python Programming'\n",
      "Original string: Python Programming\n",
      "Reversed string: gnimmargorP nohtyP\n"
     ]
    }
   ],
   "source": [
    "print(\"Question 1: Reverse the string 'Python Programming'\")\n",
    "text = \"Python Programming\"\n",
    "\n",
    "# Reverse the string using slicing\n",
    "reversed_text = text[::-1]\n",
    "\n",
    "# Print the result\n",
    "print(f\"Original string: {text}\")\n",
    "print(f\"Reversed string: {reversed_text}\")"
   ]
  },
  {
   "cell_type": "code",
   "execution_count": 2,
   "id": "45aeb0df",
   "metadata": {},
   "outputs": [
    {
     "name": "stdout",
     "output_type": "stream",
     "text": [
      "\n",
      "Question 2: Check if 'racecar' is a palindrome\n",
      "'racecar' is a palindrome\n"
     ]
    }
   ],
   "source": [
    "print(\"\\nQuestion 2: Check if 'racecar' is a palindrome\")\n",
    "word = \"racecar\"\n",
    "\n",
    "# Check if word is same when reversed\n",
    "if word == word[::-1]:\n",
    "    print(f\"'{word}' is a palindrome\")\n",
    "else:\n",
    "    print(f\"'{word}' is not a palindrome\")"
   ]
  },
  {
   "cell_type": "code",
   "execution_count": 3,
   "id": "bdf03932",
   "metadata": {},
   "outputs": [
    {
     "name": "stdout",
     "output_type": "stream",
     "text": [
      "\n",
      "Question 3: Count the number of words in 'Python is a great programming language'\n",
      "Number of words: 6\n"
     ]
    }
   ],
   "source": [
    "print(\"\\nQuestion 3: Count the number of words in 'Python is a great programming language'\")\n",
    "sentence = \"Python is a great programming language\"\n",
    "\n",
    "# Split sentence into words\n",
    "words = sentence.split()\n",
    "\n",
    "# Count number of words\n",
    "word_count = len(words)\n",
    "\n",
    "print(f\"Number of words: {word_count}\")"
   ]
  },
  {
   "cell_type": "code",
   "execution_count": 4,
   "id": "2b0ab0c9",
   "metadata": {},
   "outputs": [
    {
     "name": "stdout",
     "output_type": "stream",
     "text": [
      "\n",
      "Question 4: Convert 'hello world' to title case\n",
      "Hello World\n"
     ]
    }
   ],
   "source": [
    "print(\"\\nQuestion 4: Convert 'hello world' to title case\")\n",
    "text = \"hello world\"\n",
    "\n",
    "# Convert to title case\n",
    "title_case_text = text.title()\n",
    "\n",
    "print(title_case_text)"
   ]
  },
  {
   "cell_type": "code",
   "execution_count": 5,
   "id": "1e315bcb",
   "metadata": {},
   "outputs": [
    {
     "name": "stdout",
     "output_type": "stream",
     "text": [
      "\n",
      "Question 5: Find the length of string 'Data Science'\n",
      "The length of the string is: 12\n"
     ]
    }
   ],
   "source": [
    "print(\"\\nQuestion 5: Find the length of string 'Data Science'\")\n",
    "text = \"Data Science\"\n",
    "\n",
    "# Find length\n",
    "length = len(text)\n",
    "\n",
    "print(f\"The length of the string is: {length}\")"
   ]
  },
  {
   "cell_type": "code",
   "execution_count": 6,
   "id": "c3e54385",
   "metadata": {},
   "outputs": [
    {
     "name": "stdout",
     "output_type": "stream",
     "text": [
      "\n",
      "Question 6: Replace all spaces with underscores in 'Machine Learning'\n",
      "Machine_Learning\n"
     ]
    }
   ],
   "source": [
    "print(\"\\nQuestion 6: Replace all spaces with underscores in 'Machine Learning'\")\n",
    "text = \"Machine Learning\"\n",
    "\n",
    "# Replace spaces with underscores\n",
    "modified_text = text.replace(\" \", \"_\")\n",
    "\n",
    "print(modified_text)"
   ]
  },
  {
   "cell_type": "code",
   "execution_count": 7,
   "id": "e983d879",
   "metadata": {},
   "outputs": [
    {
     "name": "stdout",
     "output_type": "stream",
     "text": [
      "\n",
      "Question 7: Check if 'python' is in 'Python Programming Language'\n",
      "True\n"
     ]
    }
   ],
   "source": [
    "print(\"\\nQuestion 7: Check if 'python' is in 'Python Programming Language'\")\n",
    "text = \"Python Programming Language\"\n",
    "\n",
    "# Check if 'python' is present (case-insensitive)\n",
    "result = \"python\" in text.lower()\n",
    "\n",
    "print(result)"
   ]
  },
  {
   "cell_type": "code",
   "execution_count": 8,
   "id": "a4fe9395",
   "metadata": {},
   "outputs": [
    {
     "name": "stdout",
     "output_type": "stream",
     "text": [
      "\n",
      "Question 8: Extract the first 5 characters from 'Artificial Intelligence'\n",
      "Artif\n"
     ]
    }
   ],
   "source": [
    "print(\"\\nQuestion 8: Extract the first 5 characters from 'Artificial Intelligence'\")\n",
    "text = \"Artificial Intelligence\"\n",
    "\n",
    "# Extract first 5 characters using slicing\n",
    "first_five = text[:5]\n",
    "\n",
    "print(first_five)"
   ]
  },
  {
   "cell_type": "code",
   "execution_count": 9,
   "id": "c40e2608",
   "metadata": {},
   "outputs": [
    {
     "name": "stdout",
     "output_type": "stream",
     "text": [
      "\n",
      "Question 9: Convert 'UPPERCASE' to lowercase\n",
      "apple\n"
     ]
    }
   ],
   "source": [
    "print(\"\\nQuestion 9: Convert 'UPPERCASE' to lowercase\")\n",
    "text = \"APPLE\"\n",
    "\n",
    "# Convert to lowercase\n",
    "lower_text = text.lower()\n",
    "\n",
    "print(lower_text)"
   ]
  },
  {
   "cell_type": "code",
   "execution_count": 10,
   "id": "a54400db",
   "metadata": {},
   "outputs": [
    {
     "name": "stdout",
     "output_type": "stream",
     "text": [
      "\n",
      "Question 10: Remove all vowels from 'Computer Science'\n",
      "Cmptr Scnc\n"
     ]
    }
   ],
   "source": [
    "print(\"\\nQuestion 10: Remove all vowels from 'Computer Science'\")\n",
    "text = \"Computer Science\"\n",
    "vowels = \"aeiouAEIOU\"\n",
    "\n",
    "# Remove vowels using list comprehension\n",
    "result = \"\".join([char for char in text if char not in vowels])\n",
    "\n",
    "print(result)"
   ]
  },
  {
   "cell_type": "code",
   "execution_count": 12,
   "id": "4c0776d0",
   "metadata": {},
   "outputs": [
    {
     "name": "stdout",
     "output_type": "stream",
     "text": [
      "\n",
      "Question 11: Find the most frequent character in 'mississippi'\n",
      "The most frequent character is 'i' with 4 occurrences.\n"
     ]
    }
   ],
   "source": [
    "print(\"\\nQuestion 11: Find the most frequent character in 'mississippi'\")\n",
    "text = \"mississippi\"\n",
    "freq = {}\n",
    "\n",
    "for char in text:\n",
    "    freq[char] = freq.get(char, 0) + 1\n",
    "\n",
    "most_frequent = max(freq, key=freq.get)\n",
    "\n",
    "print(f\"The most frequent character is '{most_frequent}' with {freq[most_frequent]} occurrences.\")"
   ]
  },
  {
   "cell_type": "code",
   "execution_count": 13,
   "id": "611aec95",
   "metadata": {},
   "outputs": [
    {
     "name": "stdout",
     "output_type": "stream",
     "text": [
      "\n",
      "Question 12: Check if two strings are anagrams: 'listen' and 'silent'\n",
      "The strings are anagrams.\n"
     ]
    }
   ],
   "source": [
    "print(\"\\nQuestion 12: Check if two strings are anagrams: 'listen' and 'silent'\")\n",
    "str1 = \"listen\"\n",
    "str2 = \"silent\"\n",
    "\n",
    "# Sort the letters in both strings and compare\n",
    "if sorted(str1) == sorted(str2):\n",
    "    print(\"The strings are anagrams.\")\n",
    "else:\n",
    "    print(\"The strings are not anagrams.\")"
   ]
  },
  {
   "cell_type": "code",
   "execution_count": 14,
   "id": "cba2c8f4",
   "metadata": {},
   "outputs": [
    {
     "name": "stdout",
     "output_type": "stream",
     "text": [
      "\n",
      "Question 13: Capitalize first letter of each word in 'python programming language'\n",
      "Python Programming Language\n"
     ]
    }
   ],
   "source": [
    "print(\"\\nQuestion 13: Capitalize first letter of each word in 'python programming language'\")\n",
    "text = \"python programming language\"\n",
    "\n",
    "# Using title() method\n",
    "capitalized_text = text.title()\n",
    "\n",
    "print(capitalized_text)"
   ]
  },
  {
   "cell_type": "code",
   "execution_count": 15,
   "id": "7c713fab",
   "metadata": {},
   "outputs": [
    {
     "name": "stdout",
     "output_type": "stream",
     "text": [
      "\n",
      "Question 14: Count consonants in 'Hello World'\n",
      "Number of consonants: 7\n"
     ]
    }
   ],
   "source": [
    "print(\"\\nQuestion 14: Count consonants in 'Hello World'\")\n",
    "text = \"Hello World\"\n",
    "\n",
    "# Define vowels\n",
    "vowels = \"aeiouAEIOU\"\n",
    "\n",
    "# Count consonants (alphabet letters that are not vowels)\n",
    "consonant_count = sum(1 for char in text if char.isalpha() and char not in vowels)\n",
    "\n",
    "print(f\"Number of consonants: {consonant_count}\")"
   ]
  },
  {
   "cell_type": "code",
   "execution_count": 16,
   "id": "31f13a39",
   "metadata": {},
   "outputs": [
    {
     "name": "stdout",
     "output_type": "stream",
     "text": [
      "\n",
      "Question 15: Find the longest word in 'Python is a programming language'\n",
      "The longest word is: 'programming'\n"
     ]
    }
   ],
   "source": [
    "print(\"\\nQuestion 15: Find the longest word in 'Python is a programming language'\")\n",
    "text = \"Python is a programming language\"\n",
    "\n",
    "# Split sentence into words\n",
    "words = text.split()\n",
    "\n",
    "# Find the longest word\n",
    "longest_word = max(words, key=len)\n",
    "\n",
    "print(f\"The longest word is: '{longest_word}'\")"
   ]
  },
  {
   "cell_type": "code",
   "execution_count": 17,
   "id": "5ac60d5c",
   "metadata": {},
   "outputs": [
    {
     "name": "stdout",
     "output_type": "stream",
     "text": [
      "\n",
      "Question 16: Remove all punctuation from 'Hello, World! How are you?'\n",
      "Hello World How are you\n"
     ]
    }
   ],
   "source": [
    "print(\"\\nQuestion 16: Remove all punctuation from 'Hello, World! How are you?'\")\n",
    "import string\n",
    "\n",
    "text = \"Hello, World! How are you?\"\n",
    "\n",
    "# Remove punctuation using translate\n",
    "clean_text = text.translate(str.maketrans('', '', string.punctuation))\n",
    "\n",
    "print(clean_text)"
   ]
  },
  {
   "cell_type": "code",
   "execution_count": null,
   "id": "d56041e7",
   "metadata": {},
   "outputs": [],
   "source": []
  }
 ],
 "metadata": {
  "kernelspec": {
   "display_name": "Python 3",
   "language": "python",
   "name": "python3"
  },
  "language_info": {
   "codemirror_mode": {
    "name": "ipython",
    "version": 3
   },
   "file_extension": ".py",
   "mimetype": "text/x-python",
   "name": "python",
   "nbconvert_exporter": "python",
   "pygments_lexer": "ipython3",
   "version": "3.11.9"
  }
 },
 "nbformat": 4,
 "nbformat_minor": 5
}
