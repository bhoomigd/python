{
 "cells": [
  {
   "cell_type": "code",
   "execution_count": 1,
   "id": "045b6f36",
   "metadata": {},
   "outputs": [
    {
     "name": "stdout",
     "output_type": "stream",
     "text": [
      "Question 1: Create a set of first 10 natural numbers\n",
      "Set of first 10 natural numbers: {1, 2, 3, 4, 5, 6, 7, 8, 9, 10}\n"
     ]
    }
   ],
   "source": [
    "print(\"Question 1: Create a set of first 10 natural numbers\")\n",
    "natural_numbers = set(range(1, 11))\n",
    "\n",
    "print(\"Set of first 10 natural numbers:\", natural_numbers)"
   ]
  },
  {
   "cell_type": "code",
   "execution_count": 2,
   "id": "e24a5626",
   "metadata": {},
   "outputs": [
    {
     "name": "stdout",
     "output_type": "stream",
     "text": [
      "\n",
      "Question 2: Add element 11 to set {1, 2, 3, 4, 5}\n",
      "Updated set: {1, 2, 3, 4, 5, 11}\n"
     ]
    }
   ],
   "source": [
    "print(\"\\nQuestion 2: Add element 11 to set {1, 2, 3, 4, 5}\")\n",
    "numbers = {1, 2, 3, 4, 5}\n",
    "\n",
    "numbers.add(11)\n",
    "print(\"Updated set:\", numbers)"
   ]
  },
  {
   "cell_type": "code",
   "execution_count": 3,
   "id": "6eacb3c2",
   "metadata": {},
   "outputs": [
    {
     "name": "stdout",
     "output_type": "stream",
     "text": [
      "\n",
      "Question 3: Remove element 3 from set {1, 2, 3, 4, 5, 6}\n",
      "Updated set: {1, 2, 4, 5, 6}\n"
     ]
    }
   ],
   "source": [
    "print(\"\\nQuestion 3: Remove element 3 from set {1, 2, 3, 4, 5, 6}\")\n",
    "numbers = {1, 2, 3, 4, 5, 6}\n",
    "\n",
    "numbers.remove(3)\n",
    "print(\"Updated set:\", numbers)"
   ]
  },
  {
   "cell_type": "code",
   "execution_count": 4,
   "id": "182d38b9",
   "metadata": {},
   "outputs": [
    {
     "name": "stdout",
     "output_type": "stream",
     "text": [
      "\n",
      "Question 4: Find the intersection of {1, 2, 3, 4, 5} and {4, 5, 6, 7, 8}\n",
      "Intersection: {4, 5}\n"
     ]
    }
   ],
   "source": [
    "print(\"\\nQuestion 4: Find the intersection of {1, 2, 3, 4, 5} and {4, 5, 6, 7, 8}\")\n",
    "set1 = {1, 2, 3, 4, 5}\n",
    "set2 = {4, 5, 6, 7, 8}\n",
    "\n",
    "intersection_set = set1 & set2  \n",
    "print(\"Intersection:\", intersection_set)"
   ]
  },
  {
   "cell_type": "code",
   "execution_count": 5,
   "id": "873c0e26",
   "metadata": {},
   "outputs": [
    {
     "name": "stdout",
     "output_type": "stream",
     "text": [
      "\n",
      "Question 5: Find the difference between {1, 2, 3, 4, 5} and {4, 5, 6, 7, 8}\n",
      "Difference: {1, 2, 3}\n"
     ]
    }
   ],
   "source": [
    "print(\"\\nQuestion 5: Find the difference between {1, 2, 3, 4, 5} and {4, 5, 6, 7, 8}\")\n",
    "set1 = {1, 2, 3, 4, 5}\n",
    "set2 = {4, 5, 6, 7, 8}\n",
    "\n",
    "difference_set = set1 - set2  \n",
    "print(\"Difference:\", difference_set)"
   ]
  },
  {
   "cell_type": "code",
   "execution_count": 6,
   "id": "43909931",
   "metadata": {},
   "outputs": [
    {
     "name": "stdout",
     "output_type": "stream",
     "text": [
      "\n",
      "Question 6: Check if 5 is in set {1, 2, 3, 4, 6, 7, 8}\n",
      "5 is not in the set.\n"
     ]
    }
   ],
   "source": [
    "print(\"\\nQuestion 6: Check if 5 is in set {1, 2, 3, 4, 6, 7, 8}\")\n",
    "numbers = {1, 2, 3, 4, 6, 7, 8}\n",
    "\n",
    "if 5 in numbers:\n",
    "    print(\"5 is in the set.\")\n",
    "else:\n",
    "    print(\"5 is not in the set.\")"
   ]
  },
  {
   "cell_type": "code",
   "execution_count": 7,
   "id": "d6f07bd3",
   "metadata": {},
   "outputs": [
    {
     "name": "stdout",
     "output_type": "stream",
     "text": [
      "\n",
      "Question 7: Find the length of set {'a', 'b', 'c', 'd', 'e'}\n",
      "Length of set: 5\n"
     ]
    }
   ],
   "source": [
    "print(\"\\nQuestion 7: Find the length of set {'a', 'b', 'c', 'd', 'e'}\")\n",
    "set = {'a', 'b', 'c', 'd', 'e'}\n",
    "length = len(set)\n",
    "\n",
    "print(\"Length of set:\", length)"
   ]
  },
  {
   "cell_type": "code",
   "execution_count": 8,
   "id": "664cac85",
   "metadata": {},
   "outputs": [
    {
     "name": "stdout",
     "output_type": "stream",
     "text": [
      "\n",
      "Question 8: Create a set of vowels from string 'hello world'\n",
      "Vowels in the string: {'e', 'o'}\n"
     ]
    }
   ],
   "source": [
    "print(\"\\nQuestion 8: Create a set of vowels from string 'hello world'\")\n",
    "text = \"hello world\"\n",
    "\n",
    "vowels = {'a', 'e', 'i', 'o', 'u'}\n",
    "\n",
    "vowels_in_text = {char for char in text if char in vowels}\n",
    "print(\"Vowels in the string:\", vowels_in_text)"
   ]
  },
  {
   "cell_type": "code",
   "execution_count": 13,
   "id": "1be8616d",
   "metadata": {},
   "outputs": [
    {
     "name": "stdout",
     "output_type": "stream",
     "text": [
      "\n",
      "Question 9: Remove duplicates from list [1, 2, 2, 3, 4, 4, 5, 6, 6, 7] using set\n"
     ]
    },
    {
     "ename": "TypeError",
     "evalue": "'set' object is not callable",
     "output_type": "error",
     "traceback": [
      "\u001b[31m---------------------------------------------------------------------------\u001b[39m",
      "\u001b[31mTypeError\u001b[39m                                 Traceback (most recent call last)",
      "\u001b[36mCell\u001b[39m\u001b[36m \u001b[39m\u001b[32mIn[13]\u001b[39m\u001b[32m, line 5\u001b[39m\n\u001b[32m      2\u001b[39m numbers = [\u001b[32m1\u001b[39m, \u001b[32m2\u001b[39m, \u001b[32m2\u001b[39m, \u001b[32m3\u001b[39m, \u001b[32m4\u001b[39m, \u001b[32m4\u001b[39m, \u001b[32m5\u001b[39m, \u001b[32m6\u001b[39m, \u001b[32m6\u001b[39m, \u001b[32m7\u001b[39m]\n\u001b[32m      4\u001b[39m \u001b[38;5;66;03m# Remove duplicates using set\u001b[39;00m\n\u001b[32m----> \u001b[39m\u001b[32m5\u001b[39m unique_numbers = \u001b[38;5;28mlist\u001b[39m(\u001b[38;5;28;43mset\u001b[39;49m\u001b[43m(\u001b[49m\u001b[43mnumbers\u001b[49m\u001b[43m)\u001b[49m)\n\u001b[32m      7\u001b[39m \u001b[38;5;66;03m# Print result\u001b[39;00m\n\u001b[32m      8\u001b[39m \u001b[38;5;28mprint\u001b[39m(\u001b[33m\"\u001b[39m\u001b[33mList without duplicates:\u001b[39m\u001b[33m\"\u001b[39m, unique_numbers)\n",
      "\u001b[31mTypeError\u001b[39m: 'set' object is not callable"
     ]
    }
   ],
   "source": [
    "print(\"\\nQuestion 9: Remove duplicates from list [1, 2, 2, 3, 4, 4, 5, 6, 6, 7] using set\")\n",
    "numbers = [1, 2, 2, 3, 4, 4, 5, 6, 6, 7]\n",
    "\n",
    "# Remove duplicates using set\n",
    "unique_numbers = list(set(numbers))\n",
    "\n",
    "# Print result\n",
    "print(\"List without duplicates:\", unique_numbers)"
   ]
  },
  {
   "cell_type": "code",
   "execution_count": 14,
   "id": "6829dce8",
   "metadata": {},
   "outputs": [
    {
     "name": "stdout",
     "output_type": "stream",
     "text": [
      "\n",
      "Question 10: Check if {1, 2, 3} is a subset of {1, 2, 3, 4, 5, 6}\n",
      "set1 is a subset of set2.\n"
     ]
    }
   ],
   "source": [
    "print(\"\\nQuestion 10: Check if {1, 2, 3} is a subset of {1, 2, 3, 4, 5, 6}\")\n",
    "set1 = {1, 2, 3}\n",
    "set2 = {1, 2, 3, 4, 5, 6}\n",
    "\n",
    "# Check subset\n",
    "if set1.issubset(set2):\n",
    "    print(\"set1 is a subset of set2.\")\n",
    "else:\n",
    "    print(\"set1 is not a subset of set2.\")"
   ]
  }
 ],
 "metadata": {
  "kernelspec": {
   "display_name": "Python 3",
   "language": "python",
   "name": "python3"
  },
  "language_info": {
   "codemirror_mode": {
    "name": "ipython",
    "version": 3
   },
   "file_extension": ".py",
   "mimetype": "text/x-python",
   "name": "python",
   "nbconvert_exporter": "python",
   "pygments_lexer": "ipython3",
   "version": "3.11.9"
  }
 },
 "nbformat": 4,
 "nbformat_minor": 5
}
