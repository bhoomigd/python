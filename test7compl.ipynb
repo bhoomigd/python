{
 "cells": [
  {
   "cell_type": "code",
   "execution_count": 1,
   "id": "07b01ed9",
   "metadata": {},
   "outputs": [
    {
     "name": "stdout",
     "output_type": "stream",
     "text": [
      "Question 1: Create complex number 5 + 3j\n",
      "Complex number: (5+3j)\n"
     ]
    }
   ],
   "source": [
    "print(\"Question 1: Create complex number 5 + 3j\")\n",
    "z = 5 + 3j\n",
    "print(\"Complex number:\", z)"
   ]
  },
  {
   "cell_type": "code",
   "execution_count": 2,
   "id": "89fa280f",
   "metadata": {},
   "outputs": [
    {
     "name": "stdout",
     "output_type": "stream",
     "text": [
      "\n",
      "Question 2: Find the real part of complex number 7 - 2j\n",
      "Real part of the complex number: 7.0\n"
     ]
    }
   ],
   "source": [
    "print(\"\\nQuestion 2: Find the real part of complex number 7 - 2j\")\n",
    "z = 7 - 2j\n",
    "\n",
    "# Get the real part\n",
    "real_part = z.real\n",
    "\n",
    "# Print result\n",
    "print(\"Real part of the complex number:\", real_part)"
   ]
  },
  {
   "cell_type": "code",
   "execution_count": 3,
   "id": "e3ef638b",
   "metadata": {},
   "outputs": [
    {
     "name": "stdout",
     "output_type": "stream",
     "text": [
      "\n",
      "Question 3: Find the imaginary part of complex number 4 + 6j\n",
      "Imaginary part of the complex number: 6.0\n"
     ]
    }
   ],
   "source": [
    "print(\"\\nQuestion 3: Find the imaginary part of complex number 4 + 6j\")\n",
    "z = 4 + 6j\n",
    "\n",
    "# Get the imaginary part\n",
    "imag_part = z.imag\n",
    "\n",
    "# Print result\n",
    "print(\"Imaginary part of the complex number:\", imag_part)"
   ]
  },
  {
   "cell_type": "code",
   "execution_count": 4,
   "id": "9cebf83b",
   "metadata": {},
   "outputs": [
    {
     "name": "stdout",
     "output_type": "stream",
     "text": [
      "\n",
      "Question 4: Add two complex numbers: (3 + 2j) and (1 + 4j)\n",
      "Sum of the complex numbers: (4+6j)\n"
     ]
    }
   ],
   "source": [
    "print(\"\\nQuestion 4: Add two complex numbers: (3 + 2j) and (1 + 4j)\")\n",
    "z1 = 3 + 2j\n",
    "z2 = 1 + 4j\n",
    "\n",
    "# Add the complex numbers\n",
    "sum_z = z1 + z2\n",
    "\n",
    "# Print result\n",
    "print(\"Sum of the complex numbers:\", sum_z)"
   ]
  },
  {
   "cell_type": "code",
   "execution_count": 5,
   "id": "4272285f",
   "metadata": {},
   "outputs": [
    {
     "name": "stdout",
     "output_type": "stream",
     "text": [
      "\n",
      "Question 5: Multiply two complex numbers: (2 + 3j) and (1 + 2j)\n",
      "Product of the complex numbers: (-4+7j)\n"
     ]
    }
   ],
   "source": [
    "print(\"\\nQuestion 5: Multiply two complex numbers: (2 + 3j) and (1 + 2j)\")\n",
    "z1 = 2 + 3j\n",
    "z2 = 1 + 2j\n",
    "\n",
    "# Multiply the complex numbers\n",
    "product = z1 * z2\n",
    "\n",
    "# Print result\n",
    "print(\"Product of the complex numbers:\", product)"
   ]
  },
  {
   "cell_type": "code",
   "execution_count": 6,
   "id": "e08d4b1e",
   "metadata": {},
   "outputs": [
    {
     "name": "stdout",
     "output_type": "stream",
     "text": [
      "\n",
      "Question 6: Find the magnitude of complex number 6 + 8j\n",
      "Magnitude of the complex number: 10.0\n"
     ]
    }
   ],
   "source": [
    "print(\"\\nQuestion 6: Find the magnitude of complex number 6 + 8j\")\n",
    "z = 6 + 8j\n",
    "\n",
    "# Find magnitude\n",
    "magnitude = abs(z)\n",
    "\n",
    "# Print result\n",
    "print(\"Magnitude of the complex number:\", magnitude)"
   ]
  },
  {
   "cell_type": "code",
   "execution_count": 7,
   "id": "54143c67",
   "metadata": {},
   "outputs": [
    {
     "name": "stdout",
     "output_type": "stream",
     "text": [
      "\n",
      "Question 7: Find the conjugate of complex number 5 - 7j\n",
      "Conjugate of the complex number: (5+7j)\n"
     ]
    }
   ],
   "source": [
    "print(\"\\nQuestion 7: Find the conjugate of complex number 5 - 7j\")\n",
    "z = 5 - 7j\n",
    "\n",
    "# Find conjugate\n",
    "conjugate = z.conjugate()\n",
    "\n",
    "# Print result\n",
    "print(\"Conjugate of the complex number:\", conjugate)"
   ]
  },
  {
   "cell_type": "code",
   "execution_count": 8,
   "id": "9d9e95c9",
   "metadata": {},
   "outputs": [
    {
     "name": "stdout",
     "output_type": "stream",
     "text": [
      "\n",
      "Question 8: Subtract complex numbers: (10 + 5j) - (3 + 2j)\n",
      "Difference of the complex numbers: (7+3j)\n"
     ]
    }
   ],
   "source": [
    "print(\"\\nQuestion 8: Subtract complex numbers: (10 + 5j) - (3 + 2j)\")\n",
    "z1 = 10 + 5j\n",
    "z2 = 3 + 2j\n",
    "\n",
    "# Subtract the complex numbers\n",
    "difference = z1 - z2\n",
    "\n",
    "# Print result\n",
    "print(\"Difference of the complex numbers:\", difference)"
   ]
  },
  {
   "cell_type": "code",
   "execution_count": 9,
   "id": "75544a38",
   "metadata": {},
   "outputs": [
    {
     "name": "stdout",
     "output_type": "stream",
     "text": [
      "\n",
      "Question 9: Divide complex numbers: (8 + 6j) / (2 + 1j)\n",
      "Quotient of the complex numbers: (4.4+0.8j)\n"
     ]
    }
   ],
   "source": [
    "print(\"\\nQuestion 9: Divide complex numbers: (8 + 6j) / (2 + 1j)\")\n",
    "z1 = 8 + 6j\n",
    "z2 = 2 + 1j\n",
    "\n",
    "# Divide the complex numbers\n",
    "quotient = z1 / z2\n",
    "\n",
    "# Print result\n",
    "print(\"Quotient of the complex numbers:\", quotient)"
   ]
  },
  {
   "cell_type": "code",
   "execution_count": 10,
   "id": "9f75f0ee",
   "metadata": {},
   "outputs": [
    {
     "name": "stdout",
     "output_type": "stream",
     "text": [
      "\n",
      "Question 10: Find the phase angle of complex number 1 + 1j\n",
      "Phase angle of the complex number (in radians): 0.7853981633974483\n"
     ]
    }
   ],
   "source": [
    "print(\"\\nQuestion 10: Find the phase angle of complex number 1 + 1j\")\n",
    "import cmath\n",
    "z = 1 + 1j\n",
    "\n",
    "phase_angle = cmath.phase(z)\n",
    "\n",
    "print(\"Phase angle of the complex number (in radians):\", phase_angle)"
   ]
  }
 ],
 "metadata": {
  "kernelspec": {
   "display_name": "Python 3",
   "language": "python",
   "name": "python3"
  },
  "language_info": {
   "codemirror_mode": {
    "name": "ipython",
    "version": 3
   },
   "file_extension": ".py",
   "mimetype": "text/x-python",
   "name": "python",
   "nbconvert_exporter": "python",
   "pygments_lexer": "ipython3",
   "version": "3.11.9"
  }
 },
 "nbformat": 4,
 "nbformat_minor": 5
}
