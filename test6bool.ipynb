{
 "cells": [
  {
   "cell_type": "code",
   "execution_count": 1,
   "id": "2cef2477",
   "metadata": {},
   "outputs": [
    {
     "name": "stdout",
     "output_type": "stream",
     "text": [
      "Question 1: Check if 25 is greater than 20 and less than 30\n",
      "25 is greater than 20 and less than 30.\n"
     ]
    }
   ],
   "source": [
    "print(\"Question 1: Check if 25 is greater than 20 and less than 30\")\n",
    "num = 25\n",
    "if 20 < num < 30:\n",
    "    print(\"25 is greater than 20 and less than 30.\")\n",
    "else:\n",
    "    print(\"Condition not satisfied.\")"
   ]
  },
  {
   "cell_type": "code",
   "execution_count": 2,
   "id": "4940bee7",
   "metadata": {},
   "outputs": [
    {
     "name": "stdout",
     "output_type": "stream",
     "text": [
      "\n",
      "Question 2: Check if string 'python' is equal to 'Python' (case sensitive)\n",
      "Strings are not equal.\n"
     ]
    }
   ],
   "source": [
    "print(\"\\nQuestion 2: Check if string 'python' is equal to 'Python' (case sensitive)\")\n",
    "str1 = \"python\"\n",
    "str2 = \"Python\"\n",
    "\n",
    "# Check equality (case-sensitive)\n",
    "if str1 == str2:\n",
    "    print(\"Strings are equal.\")\n",
    "else:\n",
    "    print(\"Strings are not equal.\")\n",
    "    "
   ]
  },
  {
   "cell_type": "code",
   "execution_count": 3,
   "id": "3aa032d6",
   "metadata": {},
   "outputs": [
    {
     "name": "stdout",
     "output_type": "stream",
     "text": [
      "\n",
      "Question 3: Check if 15 is divisible by both 3 and 5\n",
      "15 is divisible by both 3 and 5.\n"
     ]
    }
   ],
   "source": [
    "print(\"\\nQuestion 3: Check if 15 is divisible by both 3 and 5\")\n",
    "num = 15\n",
    "\n",
    "# Check divisibility\n",
    "if num % 3 == 0 and num % 5 == 0:\n",
    "    print(\"15 is divisible by both 3 and 5.\")\n",
    "else:\n",
    "    print(\"15 is not divisible by both 3 and 5.\")"
   ]
  },
  {
   "cell_type": "code",
   "execution_count": 4,
   "id": "94ac2249",
   "metadata": {},
   "outputs": [
    {
     "name": "stdout",
     "output_type": "stream",
     "text": [
      "\n",
      "Question 4: Check if 7 is not equal to 8\n",
      "7 is not equal to 8.\n"
     ]
    }
   ],
   "source": [
    "print(\"\\nQuestion 4: Check if 7 is not equal to 8\")\n",
    "a = 7\n",
    "b = 8\n",
    "\n",
    "# Check inequality\n",
    "if a != b:\n",
    "    print(\"7 is not equal to 8.\")\n",
    "else:\n",
    "    print(\"7 is equal to 8.\")"
   ]
  },
  {
   "cell_type": "code",
   "execution_count": 5,
   "id": "77482e00",
   "metadata": {},
   "outputs": [
    {
     "name": "stdout",
     "output_type": "stream",
     "text": [
      "\n",
      "Question 5: Check if 100 is greater than 50 or less than 25\n",
      "100 is greater than 50 or less than 25.\n"
     ]
    }
   ],
   "source": [
    "print(\"\\nQuestion 5: Check if 100 is greater than 50 or less than 25\")\n",
    "num = 100\n",
    "\n",
    "# Check condition\n",
    "if num > 50 or num < 25:\n",
    "    print(\"100 is greater than 50 or less than 25.\")\n",
    "else:\n",
    "    print(\"Condition not satisfied.\")"
   ]
  },
  {
   "cell_type": "code",
   "execution_count": 6,
   "id": "5334302f",
   "metadata": {},
   "outputs": [
    {
     "name": "stdout",
     "output_type": "stream",
     "text": [
      "\n",
      "Question 6: Check if 0 is falsy in Python\n",
      "0 is falsy in Python\n"
     ]
    }
   ],
   "source": [
    "print(\"\\nQuestion 6: Check if 0 is falsy in Python\")\n",
    "value = 0\n",
    "\n",
    "if not value:\n",
    "    print(\"0 is falsy in Python\")\n",
    "else:\n",
    "    print(\"0 is truthy in Python\")"
   ]
  },
  {
   "cell_type": "code",
   "execution_count": 7,
   "id": "33de8aed",
   "metadata": {},
   "outputs": [
    {
     "name": "stdout",
     "output_type": "stream",
     "text": [
      "\n",
      "Question 7: Check if empty string '' is falsy in Python\n",
      "Empty string is falsy in Python\n"
     ]
    }
   ],
   "source": [
    "print(\"\\nQuestion 7: Check if empty string '' is falsy in Python\")\n",
    "string = ''\n",
    "\n",
    "if not string:\n",
    "    print(\"Empty string is falsy in Python\")\n",
    "else:\n",
    "    print(\"Empty string is truthy in Python\")"
   ]
  },
  {
   "cell_type": "code",
   "execution_count": 8,
   "id": "1d55c787",
   "metadata": {},
   "outputs": [
    {
     "name": "stdout",
     "output_type": "stream",
     "text": [
      "\n",
      "Question 8: Check if 42 is truthy in Python\n",
      "42 is truthy in Python.\n"
     ]
    }
   ],
   "source": [
    "print(\"\\nQuestion 8: Check if 42 is truthy in Python\")\n",
    "value = 42\n",
    "\n",
    "# Check if value is truthy\n",
    "if value:\n",
    "    print(\"42 is truthy in Python.\")\n",
    "else:\n",
    "    print(\"42 is falsy in Python.\")"
   ]
  },
  {
   "cell_type": "code",
   "execution_count": 9,
   "id": "a0c304c7",
   "metadata": {},
   "outputs": [
    {
     "name": "stdout",
     "output_type": "stream",
     "text": [
      "\n",
      "Question 9: Check if 10 is between 5 and 15 (inclusive)\n",
      "10 is between 5 and 15 (inclusive).\n"
     ]
    }
   ],
   "source": [
    "print(\"\\nQuestion 9: Check if 10 is between 5 and 15 (inclusive)\")\n",
    "num = 10\n",
    "\n",
    "# Check if num is between 5 and 15 inclusive\n",
    "if 5 <= num <= 15:\n",
    "    print(\"10 is between 5 and 15 (inclusive).\")\n",
    "else:\n",
    "    print(\"10 is not between 5 and 15.\")"
   ]
  },
  {
   "cell_type": "code",
   "execution_count": 10,
   "id": "422a8452",
   "metadata": {},
   "outputs": [
    {
     "name": "stdout",
     "output_type": "stream",
     "text": [
      "\n",
      "Question 10: Check if 3.14 is greater than 3 and less than 4\n",
      "3.14 is greater than 3 and less than 4.\n"
     ]
    }
   ],
   "source": [
    "print(\"\\nQuestion 10: Check if 3.14 is greater than 3 and less than 4\")\n",
    "num = 3.14\n",
    "\n",
    "# Check condition\n",
    "if 3 < num < 4:\n",
    "    print(\"3.14 is greater than 3 and less than 4.\")\n",
    "else:\n",
    "    print(\"Condition not satisfied.\")"
   ]
  }
 ],
 "metadata": {
  "kernelspec": {
   "display_name": "Python 3",
   "language": "python",
   "name": "python3"
  },
  "language_info": {
   "codemirror_mode": {
    "name": "ipython",
    "version": 3
   },
   "file_extension": ".py",
   "mimetype": "text/x-python",
   "name": "python",
   "nbconvert_exporter": "python",
   "pygments_lexer": "ipython3",
   "version": "3.11.9"
  }
 },
 "nbformat": 4,
 "nbformat_minor": 5
}
