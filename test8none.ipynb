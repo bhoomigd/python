{
 "cells": [
  {
   "cell_type": "code",
   "execution_count": 1,
   "id": "e6555712",
   "metadata": {},
   "outputs": [
    {
     "name": "stdout",
     "output_type": "stream",
     "text": [
      "Question 1: Create a variable and assign None to it\n",
      "Value of the variable: None\n"
     ]
    }
   ],
   "source": [
    "print(\"Question 1: Create a variable and assign None to it\")\n",
    "my_var = None\n",
    "\n",
    "# Print the variable\n",
    "print(\"Value of the variable:\", my_var)"
   ]
  },
  {
   "cell_type": "code",
   "execution_count": 2,
   "id": "686fe67e",
   "metadata": {},
   "outputs": [
    {
     "name": "stdout",
     "output_type": "stream",
     "text": [
      "\n",
      "Question 2: Check if None equals None\n",
      "None equals None.\n"
     ]
    }
   ],
   "source": [
    "print(\"\\nQuestion 2: Check if None equals None\")\n",
    "if None == None:\n",
    "    print(\"None equals None.\")\n",
    "else:\n",
    "    print(\"None does not equal None.\")"
   ]
  },
  {
   "cell_type": "code",
   "execution_count": 3,
   "id": "8e6bb2c7",
   "metadata": {},
   "outputs": [
    {
     "name": "stdout",
     "output_type": "stream",
     "text": [
      "\n",
      "Question 3: Check if None is None\n",
      "None is None.\n"
     ]
    }
   ],
   "source": [
    "print(\"\\nQuestion 3: Check if None is None\")\n",
    "if None is None:\n",
    "    print(\"None is None.\")\n",
    "else:\n",
    "    print(\"None is not None.\")"
   ]
  },
  {
   "cell_type": "code",
   "execution_count": 4,
   "id": "4d039495",
   "metadata": {},
   "outputs": [
    {
     "name": "stdout",
     "output_type": "stream",
     "text": [
      "\n",
      "Question 4: Check if 0 is None\n",
      "0 is not None.\n"
     ]
    }
   ],
   "source": [
    "print(\"\\nQuestion 4: Check if 0 is None\")\n",
    "value = 0\n",
    "\n",
    "# Check if value is None\n",
    "if value is None:\n",
    "    print(\"0 is None.\")\n",
    "else:\n",
    "    print(\"0 is not None.\")"
   ]
  },
  {
   "cell_type": "code",
   "execution_count": 5,
   "id": "8da5d449",
   "metadata": {},
   "outputs": [
    {
     "name": "stdout",
     "output_type": "stream",
     "text": [
      "\n",
      "Question 5: Check if empty string is None\n",
      "Empty string is not None.\n"
     ]
    }
   ],
   "source": [
    "print(\"\\nQuestion 5: Check if empty string is None\")\n",
    "text = \"\"\n",
    "\n",
    "# Check if string is None\n",
    "if text is None:\n",
    "    print(\"Empty string is None.\")\n",
    "else:\n",
    "    print(\"Empty string is not None.\")"
   ]
  },
  {
   "cell_type": "code",
   "execution_count": 6,
   "id": "7c87d416",
   "metadata": {},
   "outputs": [
    {
     "name": "stdout",
     "output_type": "stream",
     "text": [
      "\n",
      "Question 6: Check if False is None\n",
      "False is not None.\n"
     ]
    }
   ],
   "source": [
    "print(\"\\nQuestion 6: Check if False is None\")\n",
    "value = False\n",
    "\n",
    "# Check if value is None\n",
    "if value is None:\n",
    "    print(\"False is None.\")\n",
    "else:\n",
    "    print(\"False is not None.\")"
   ]
  },
  {
   "cell_type": "code",
   "execution_count": 7,
   "id": "48753d13",
   "metadata": {},
   "outputs": [
    {
     "name": "stdout",
     "output_type": "stream",
     "text": [
      "\n",
      "Question 7: Check if empty list is None\n",
      "Empty list is not None.\n"
     ]
    }
   ],
   "source": [
    "print(\"\\nQuestion 7: Check if empty list is None\")\n",
    "my_list = []\n",
    "\n",
    "# Check if list is None\n",
    "if my_list is None:\n",
    "    print(\"Empty list is None.\")\n",
    "else:\n",
    "    print(\"Empty list is not None.\")\n",
    "    "
   ]
  },
  {
   "cell_type": "code",
   "execution_count": 8,
   "id": "e97b9379",
   "metadata": {},
   "outputs": [
    {
     "name": "stdout",
     "output_type": "stream",
     "text": [
      "\n",
      "Question 8: Check if empty dictionary is None\n",
      "Empty dictionary is not None.\n"
     ]
    }
   ],
   "source": [
    "print(\"\\nQuestion 8: Check if empty dictionary is None\")\n",
    "my_dict = {}\n",
    "\n",
    "# Check if dictionary is None\n",
    "if my_dict is None:\n",
    "    print(\"Empty dictionary is None.\")\n",
    "else:\n",
    "    print(\"Empty dictionary is not None.\")"
   ]
  },
  {
   "cell_type": "code",
   "execution_count": 9,
   "id": "934aea14",
   "metadata": {},
   "outputs": [
    {
     "name": "stdout",
     "output_type": "stream",
     "text": [
      "\n",
      "Question 9: Check if empty tuple is None\n",
      "Empty tuple is not None.\n"
     ]
    }
   ],
   "source": [
    "print(\"\\nQuestion 9: Check if empty tuple is None\")\n",
    "my_tuple = ()\n",
    "\n",
    "# Check if tuple is None\n",
    "if my_tuple is None:\n",
    "    print(\"Empty tuple is None.\")\n",
    "else:\n",
    "    print(\"Empty tuple is not None.\")"
   ]
  },
  {
   "cell_type": "code",
   "execution_count": 10,
   "id": "00537849",
   "metadata": {},
   "outputs": [
    {
     "name": "stdout",
     "output_type": "stream",
     "text": [
      "\n",
      "Question 10: Check if empty set is None\n",
      "Empty set is not None.\n"
     ]
    }
   ],
   "source": [
    "print(\"\\nQuestion 10: Check if empty set is None\")\n",
    "my_set = set()\n",
    "\n",
    "# Check if set is None\n",
    "if my_set is None:\n",
    "    print(\"Empty set is None.\")\n",
    "else:\n",
    "    print(\"Empty set is not None.\")"
   ]
  }
 ],
 "metadata": {
  "kernelspec": {
   "display_name": "Python 3",
   "language": "python",
   "name": "python3"
  },
  "language_info": {
   "codemirror_mode": {
    "name": "ipython",
    "version": 3
   },
   "file_extension": ".py",
   "mimetype": "text/x-python",
   "name": "python",
   "nbconvert_exporter": "python",
   "pygments_lexer": "ipython3",
   "version": "3.11.9"
  }
 },
 "nbformat": 4,
 "nbformat_minor": 5
}
