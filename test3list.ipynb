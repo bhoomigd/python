{
 "cells": [
  {
   "cell_type": "code",
   "execution_count": 2,
   "id": "46e0d646",
   "metadata": {},
   "outputs": [
    {
     "name": "stdout",
     "output_type": "stream",
     "text": [
      "Question 1: Create a list of first 10 square numbers\n",
      "First 10 square numbers: [1, 4, 9, 16, 25, 36, 49, 64, 81, 100]\n"
     ]
    }
   ],
   "source": [
    "print(\"Question 1: Create a list of first 10 square numbers\")\n",
    "square_numbers = [x**2 for x in range(1, 11)]\n",
    "print(\"First 10 square numbers:\", square_numbers)"
   ]
  },
  {
   "cell_type": "code",
   "execution_count": 3,
   "id": "4473c0f7",
   "metadata": {},
   "outputs": [
    {
     "name": "stdout",
     "output_type": "stream",
     "text": [
      "\n",
      "Question 2: Find the sum of all even numbers in [1, 2, 3, 4, 5, 6, 7, 8, 9, 10]\n",
      "Sum of even numbers: 30\n"
     ]
    }
   ],
   "source": [
    "print(\"\\nQuestion 2: Find the sum of all even numbers in [1, 2, 3, 4, 5, 6, 7, 8, 9, 10]\")\n",
    "numbers = [1, 2, 3, 4, 5, 6, 7, 8, 9, 10]\n",
    "even_sum = sum(num for num in numbers if num % 2 == 0)\n",
    "print(\"Sum of even numbers:\", even_sum)"
   ]
  },
  {
   "cell_type": "code",
   "execution_count": 19,
   "id": "a4bd3bfb",
   "metadata": {},
   "outputs": [
    {
     "name": "stdout",
     "output_type": "stream",
     "text": [
      "\n",
      "Question 3: Remove duplicates from [1, 2, 2, 3, 4, 4, 5, 6, 6, 7]\n",
      "List without duplicates (order preserved): [1, 2, 3, 4, 5, 6, 7]\n"
     ]
    }
   ],
   "source": [
    "print(\"\\nQuestion 3: Remove duplicates from [1, 2, 2, 3, 4, 4, 5, 6, 6, 7]\")\n",
    "numbers = [1, 2, 2, 3, 4, 4, 5, 6, 6, 7]\n",
    "unique_numbers = []\n",
    "for num in numbers:\n",
    "    if num not in unique_numbers:\n",
    "        unique_numbers.append(num)\n",
    "\n",
    "print(\"List without duplicates (order preserved):\", unique_numbers)"
   ]
  },
  {
   "cell_type": "code",
   "execution_count": 20,
   "id": "e3cce4d3",
   "metadata": {},
   "outputs": [
    {
     "name": "stdout",
     "output_type": "stream",
     "text": [
      "\n",
      "Question 4: Sort the list [64, 34, 25, 12, 22, 11, 90] in descending order\n",
      "Sorted list in descending order: [90, 64, 34, 25, 22, 12, 11]\n"
     ]
    }
   ],
   "source": [
    "print(\"\\nQuestion 4: Sort the list [64, 34, 25, 12, 22, 11, 90] in descending order\")\n",
    "numbers = [64, 34, 25, 12, 22, 11, 90]\n",
    "numbers.sort(reverse=True)\n",
    "print(\"Sorted list in descending order:\", numbers)"
   ]
  },
  {
   "cell_type": "code",
   "execution_count": 21,
   "id": "fa6d5fd5",
   "metadata": {},
   "outputs": [
    {
     "name": "stdout",
     "output_type": "stream",
     "text": [
      "\n",
      "Question 5: Find the average of numbers in [15, 23, 31, 42, 56, 78, 91]n/ \n",
      "48.0\n"
     ]
    }
   ],
   "source": [
    "print(\"\\nQuestion 5: Find the average of numbers in [15, 23, 31, 42, 56, 78, 91]n/ \")\n",
    "num = [15, 23, 31, 42, 56, 78, 91]\n",
    "length = len(num)\n",
    "sum_num = sum(num)\n",
    "average = sum_num/len(num)\n",
    "print(average)"
   ]
  },
  {
   "cell_type": "code",
   "execution_count": 22,
   "id": "98d6410d",
   "metadata": {},
   "outputs": [
    {
     "name": "stdout",
     "output_type": "stream",
     "text": [
      "\n",
      "Question 6: Create a list of first 15 Fibonacci numbers\n",
      "First 15 Fibonacci numbers: [0, 1, 1, 2, 3, 5, 8, 13, 21, 34, 55, 89, 144, 233, 377]\n"
     ]
    }
   ],
   "source": [
    "print(\"\\nQuestion 6: Create a list of first 15 Fibonacci numbers\")\n",
    "n = 15\n",
    "\n",
    "# Initialize the list with first two Fibonacci numbers\n",
    "fibonacci = [0, 1]\n",
    "\n",
    "# Generate the rest of the sequence\n",
    "for i in range(2, n):\n",
    "    fibonacci.append(fibonacci[i-1] + fibonacci[i-2])\n",
    "\n",
    "# Print the list\n",
    "print(\"First 15 Fibonacci numbers:\", fibonacci)"
   ]
  },
  {
   "cell_type": "code",
   "execution_count": 24,
   "id": "2bf6e29f",
   "metadata": {},
   "outputs": [
    {
     "name": "stdout",
     "output_type": "stream",
     "text": [
      "\n",
      "Question 7: Find the second largest number in [45, 67, 23, 89, 12, 34, 78]\n",
      "Second largest number is: 78\n"
     ]
    }
   ],
   "source": [
    "print(\"\\nQuestion 7: Find the second largest number in [45, 67, 23, 89, 12, 34, 78]\")\n",
    "numbers = [45, 67, 23, 89, 12, 34, 78]\n",
    "numbers.sort(reverse=True)\n",
    "second_largest = numbers[1]\n",
    "print(\"Second largest number is:\", second_largest)"
   ]
  },
  {
   "cell_type": "code",
   "execution_count": 25,
   "id": "628270c8",
   "metadata": {},
   "outputs": [
    {
     "name": "stdout",
     "output_type": "stream",
     "text": [
      "\n",
      "Question 8: Reverse the list [1, 2, 3, 4, 5, 6, 7, 8, 9, 10]\n",
      "Reversed list: [10, 9, 8, 7, 6, 5, 4, 3, 2, 1]\n"
     ]
    }
   ],
   "source": [
    "print(\"\\nQuestion 8: Reverse the list [1, 2, 3, 4, 5, 6, 7, 8, 9, 10]\")\n",
    "numbers = [1, 2, 3, 4, 5, 6, 7, 8, 9, 10]\n",
    "numbers.reverse()\n",
    "print(\"Reversed list:\", numbers)"
   ]
  },
  {
   "cell_type": "code",
   "execution_count": 26,
   "id": "6470db01",
   "metadata": {},
   "outputs": [
    {
     "name": "stdout",
     "output_type": "stream",
     "text": [
      "\n",
      "Question 9: Count how many times 5 appears in [1, 5, 2, 5, 3, 5, 4, 5, 6]\n",
      "Number 5 appears 4 times.\n"
     ]
    }
   ],
   "source": [
    "print(\"\\nQuestion 9: Count how many times 5 appears in [1, 5, 2, 5, 3, 5, 4, 5, 6]\")\n",
    "numbers = [1, 5, 2, 5, 3, 5, 4, 5, 6]\n",
    "count_5 = numbers.count(5)\n",
    "print(\"Number 5 appears\", count_5, \"times.\")"
   ]
  },
  {
   "cell_type": "code",
   "execution_count": 27,
   "id": "92951b60",
   "metadata": {},
   "outputs": [
    {
     "name": "stdout",
     "output_type": "stream",
     "text": [
      "\n",
      "Question 10: Create a list of prime numbers between 1 and 50\n",
      "Prime numbers between 1 and 50: [2, 3, 5, 7, 11, 13, 17, 19, 23, 29, 31, 37, 41, 43, 47]\n"
     ]
    }
   ],
   "source": [
    "print(\"\\nQuestion 10: Create a list of prime numbers between 1 and 50\")\n",
    "def is_prime(num):\n",
    "    if num < 2:\n",
    "        return False\n",
    "    for i in range(2, int(num**0.5) + 1):\n",
    "        if num % i == 0:\n",
    "            return False\n",
    "    return True\n",
    "\n",
    "# Create list of prime numbers between 1 and 50\n",
    "prime_numbers = [n for n in range(1, 51) if is_prime(n)]\n",
    "\n",
    "# Print the list\n",
    "print(\"Prime numbers between 1 and 50:\", prime_numbers)"
   ]
  },
  {
   "cell_type": "code",
   "execution_count": 28,
   "id": "85651a7b",
   "metadata": {},
   "outputs": [
    {
     "name": "stdout",
     "output_type": "stream",
     "text": [
      "\n",
      "Question 11: Flatten nested list [[1, 2, 3], [4, 5, 6], [7, 8, 9]]\n",
      "Flattened list: [1, 2, 3, 4, 5, 6, 7, 8, 9]\n"
     ]
    }
   ],
   "source": [
    "print(\"\\nQuestion 11: Flatten nested list [[1, 2, 3], [4, 5, 6], [7, 8, 9]]\")\n",
    "nested_list = [[1, 2, 3], [4, 5, 6], [7, 8, 9]]\n",
    "\n",
    "# Flatten the list\n",
    "flat_list = [num for sublist in nested_list for num in sublist]\n",
    "\n",
    "# Print result\n",
    "print(\"Flattened list:\", flat_list)\n"
   ]
  },
  {
   "cell_type": "code",
   "execution_count": 30,
   "id": "329f914e",
   "metadata": {},
   "outputs": [
    {
     "name": "stdout",
     "output_type": "stream",
     "text": [
      "\n",
      "Question 12: Find common elements between [1, 2, 3, 4, 5] and [4, 5, 6, 7, 8]\n",
      "Common elements: [4, 5]\n"
     ]
    }
   ],
   "source": [
    "print(\"\\nQuestion 12: Find common elements between [1, 2, 3, 4, 5] and [4, 5, 6, 7, 8]\")\n",
    "list1 = [1, 2, 3, 4, 5]\n",
    "list2 = [4, 5, 6, 7, 8]\n",
    "\n",
    "# Find common elements using set intersection\n",
    "common_elements = list(set(list1) & set(list2))\n",
    "\n",
    "# Print result\n",
    "print(\"Common elements:\", common_elements)\n",
    "    "
   ]
  },
  {
   "cell_type": "code",
   "execution_count": 31,
   "id": "b758e36d",
   "metadata": {},
   "outputs": [
    {
     "name": "stdout",
     "output_type": "stream",
     "text": [
      "\n",
      "Question 13: Create a list of lists: [[1, 2], [3, 4], [5, 6]]\n",
      "List of lists: [[1, 2], [3, 4], [5, 6]]\n"
     ]
    }
   ],
   "source": [
    "print(\"\\nQuestion 13: Create a list of lists: [[1, 2], [3, 4], [5, 6]]\")\n",
    "list_of_lists = [[1, 2], [3, 4], [5, 6]]\n",
    "\n",
    "# Print result\n",
    "print(\"List of lists:\", list_of_lists)"
   ]
  },
  {
   "cell_type": "code",
   "execution_count": 32,
   "id": "cfb29fe3",
   "metadata": {},
   "outputs": [
    {
     "name": "stdout",
     "output_type": "stream",
     "text": [
      "\n",
      "Question 14: Find the sum of each sublist in [[1, 2, 3], [4, 5, 6], [7, 8, 9]]\n",
      "Sum of each sublist: [6, 15, 24]\n"
     ]
    }
   ],
   "source": [
    "print(\"\\nQuestion 14: Find the sum of each sublist in [[1, 2, 3], [4, 5, 6], [7, 8, 9]]\")\n",
    "nested_list = [[1, 2, 3], [4, 5, 6], [7, 8, 9]]\n",
    "\n",
    "# Find sum of each sublist\n",
    "sums = [sum(sublist) for sublist in nested_list]\n",
    "\n",
    "# Print result\n",
    "print(\"Sum of each sublist:\", sums)"
   ]
  },
  {
   "cell_type": "code",
   "execution_count": 33,
   "id": "9d213240",
   "metadata": {},
   "outputs": [
    {
     "name": "stdout",
     "output_type": "stream",
     "text": [
      "\n",
      "Question 15: Transpose the matrix [[1, 2, 3], [4, 5, 6], [7, 8, 9]]\n",
      "Transposed matrix: [[1, 4, 7], [2, 5, 8], [3, 6, 9]]\n"
     ]
    }
   ],
   "source": [
    "print(\"\\nQuestion 15: Transpose the matrix [[1, 2, 3], [4, 5, 6], [7, 8, 9]]\")\n",
    "matrix = [[1, 2, 3],\n",
    "          [4, 5, 6],\n",
    "          [7, 8, 9]]\n",
    "\n",
    "# Transpose the matrix using zip\n",
    "transposed = [list(row) for row in zip(*matrix)]\n",
    "\n",
    "# Print result\n",
    "print(\"Transposed matrix:\", transposed)"
   ]
  },
  {
   "cell_type": "code",
   "execution_count": 34,
   "id": "714317f8",
   "metadata": {},
   "outputs": [
    {
     "name": "stdout",
     "output_type": "stream",
     "text": [
      "\n",
      "Question 16: Find the maximum value in each sublist of [[1, 5, 3], [9, 2, 7], [4, 8, 6]]\n",
      "Maximum value in each sublist: [5, 9, 8]\n"
     ]
    }
   ],
   "source": [
    "print(\"\\nQuestion 16: Find the maximum value in each sublist of [[1, 5, 3], [9, 2, 7], [4, 8, 6]]\")\n",
    "nested_list = [[1, 5, 3], [9, 2, 7], [4, 8, 6]]\n",
    "\n",
    "# Find maximum in each sublist\n",
    "max_values = [max(sublist) for sublist in nested_list]\n",
    "\n",
    "# Print result\n",
    "print(\"Maximum value in each sublist:\", max_values)"
   ]
  },
  {
   "cell_type": "code",
   "execution_count": 35,
   "id": "90ffba9b",
   "metadata": {},
   "outputs": [
    {
     "name": "stdout",
     "output_type": "stream",
     "text": [
      "\n",
      "Question 17: Create a 3D list: [[[1, 2], [3, 4]], [[5, 6], [7, 8]]]\n",
      "3D list: [[[1, 2], [3, 4]], [[5, 6], [7, 8]]]\n"
     ]
    }
   ],
   "source": [
    "print(\"\\nQuestion 17: Create a 3D list: [[[1, 2], [3, 4]], [[5, 6], [7, 8]]]\")\n",
    "three_d_list = [\n",
    "    [[1, 2], [3, 4]],\n",
    "    [[5, 6], [7, 8]]\n",
    "]\n",
    "\n",
    "# Print result\n",
    "print(\"3D list:\", three_d_list)"
   ]
  },
  {
   "cell_type": "code",
   "execution_count": 36,
   "id": "42983981",
   "metadata": {},
   "outputs": [
    {
     "name": "stdout",
     "output_type": "stream",
     "text": [
      "\n",
      "Question 18: Find the sum of all elements in 3D list [[[1, 2], [3, 4]], [[5, 6], [7, 8]]]\n",
      "Sum of all elements: 36\n"
     ]
    }
   ],
   "source": [
    "print(\"\\nQuestion 18: Find the sum of all elements in 3D list [[[1, 2], [3, 4]], [[5, 6], [7, 8]]]\")\n",
    "three_d_list = [\n",
    "    [[1, 2], [3, 4]],\n",
    "    [[5, 6], [7, 8]]\n",
    "]\n",
    "\n",
    "# Sum all elements\n",
    "total_sum = sum(num for sublist1 in three_d_list for sublist2 in sublist1 for num in sublist2)\n",
    "\n",
    "# Print result\n",
    "print(\"Sum of all elements:\", total_sum)"
   ]
  },
  {
   "cell_type": "code",
   "execution_count": 37,
   "id": "729d72d0",
   "metadata": {},
   "outputs": [
    {
     "name": "stdout",
     "output_type": "stream",
     "text": [
      "\n",
      "Question 19: Extract all even numbers from nested list [[1, 2, 3], [4, 5, 6], [7, 8, 9]]\n",
      "Even numbers: [2, 4, 6, 8]\n"
     ]
    }
   ],
   "source": [
    "print(\"\\nQuestion 19: Extract all even numbers from nested list [[1, 2, 3], [4, 5, 6], [7, 8, 9]]\")\n",
    "nested_list = [[1, 2, 3], [4, 5, 6], [7, 8, 9]]\n",
    "\n",
    "# Extract even numbers\n",
    "even_numbers = [num for sublist in nested_list for num in sublist if num % 2 == 0]\n",
    "\n",
    "# Print result\n",
    "print(\"Even numbers:\", even_numbers)"
   ]
  },
  {
   "cell_type": "code",
   "execution_count": 38,
   "id": "c6ab116d",
   "metadata": {},
   "outputs": [
    {
     "name": "stdout",
     "output_type": "stream",
     "text": [
      "\n",
      "Question20: Create a list of mixed data types: [1, 'hello', 3.14, True, [1, 2, 3]]\n",
      "Mixed data types list: [1, 'hello', 3.14, True, [1, 2, 3]]\n"
     ]
    }
   ],
   "source": [
    "print(\"\\nQuestion20: Create a list of mixed data types: [1, 'hello', 3.14, True, [1, 2, 3]]\")\n",
    "mixed_list = [1, 'hello', 3.14, True, [1, 2, 3]]\n",
    "print(\"Mixed data types list:\", mixed_list)"
   ]
  },
  {
   "cell_type": "code",
   "execution_count": 39,
   "id": "6ea475e8",
   "metadata": {},
   "outputs": [
    {
     "name": "stdout",
     "output_type": "stream",
     "text": [
      "\n",
      "Question 21: Find the length of each string in ['apple', 'banana', 'cherry', 'date']\n",
      "Length of each string: [5, 6, 6, 4]\n"
     ]
    }
   ],
   "source": [
    "print(\"\\nQuestion 21: Find the length of each string in ['apple', 'banana', 'cherry', 'date']\")\n",
    "fruits = ['apple', 'banana', 'cherry', 'date']\n",
    "\n",
    "# Find length of each string\n",
    "lengths = [len(fruit) for fruit in fruits]\n",
    "\n",
    "# Print result\n",
    "print(\"Length of each string:\", lengths)"
   ]
  },
  {
   "cell_type": "code",
   "execution_count": 40,
   "id": "b4ba69cd",
   "metadata": {},
   "outputs": [
    {
     "name": "stdout",
     "output_type": "stream",
     "text": [
      "\n",
      "Question 22: Create a list of tuples: [(1, 'a'), (2, 'b'), (3, 'c')]\n",
      "List of tuples: [(1, 'a'), (2, 'b'), (3, 'c')]\n"
     ]
    }
   ],
   "source": [
    "print(\"\\nQuestion 22: Create a list of tuples: [(1, 'a'), (2, 'b'), (3, 'c')]\")\n",
    "list_of_tuples = [(1, 'a'), (2, 'b'), (3, 'c')]\n",
    "\n",
    "# Print result\n",
    "print(\"List of tuples:\", list_of_tuples)"
   ]
  },
  {
   "cell_type": "code",
   "execution_count": 41,
   "id": "2904101e",
   "metadata": {},
   "outputs": [
    {
     "name": "stdout",
     "output_type": "stream",
     "text": [
      "\n",
      "Question 23: Extract first element from each tuple in [(1, 'a'), (2, 'b'), (3, 'c')]\n",
      "First elements: [1, 2, 3]\n"
     ]
    }
   ],
   "source": [
    "print(\"\\nQuestion 23: Extract first element from each tuple in [(1, 'a'), (2, 'b'), (3, 'c')]\")\n",
    "tuples_list = [(1, 'a'), (2, 'b'), (3, 'c')]\n",
    "\n",
    "first_elements = [t[0] for t in tuples_list]\n",
    "print(\"First elements:\", first_elements)"
   ]
  },
  {
   "cell_type": "code",
   "execution_count": 43,
   "id": "14e424cf",
   "metadata": {},
   "outputs": [
    {
     "name": "stdout",
     "output_type": "stream",
     "text": [
      "\n",
      "Question 24: Create a list of dictionaries: [{'name': 'Alice', 'age': 25}, {'name': 'Bob', 'age': 30}]\n",
      "List of dictionaries: [{'name': 'Alice', 'age': 25}, {'name': 'Bob', 'age': 30}]\n"
     ]
    }
   ],
   "source": [
    "print(\"\\nQuestion 24: Create a list of dictionaries: [{'name': 'Alice', 'age': 25}, {'name': 'Bob', 'age': 30}]\")\n",
    "people = [\n",
    "    {'name': 'Alice', 'age': 25},\n",
    "    {'name': 'Bob', 'age': 30}\n",
    "]\n",
    "print(\"List of dictionaries:\", people)"
   ]
  },
  {
   "cell_type": "code",
   "execution_count": 44,
   "id": "57676653",
   "metadata": {},
   "outputs": [
    {
     "name": "stdout",
     "output_type": "stream",
     "text": [
      "\n",
      "Question 25: Extract all 'name' values from list of dictionaries\n",
      "Names: ['Alice', 'Bob']\n"
     ]
    }
   ],
   "source": [
    "print(\"\\nQuestion 25: Extract all 'name' values from list of dictionaries\")\n",
    "people = [\n",
    "    {'name': 'Alice', 'age': 25},\n",
    "    {'name': 'Bob', 'age': 30}\n",
    "]\n",
    "\n",
    "# Extract all 'name' values\n",
    "names = [person['name'] for person in people]\n",
    "\n",
    "# Print result\n",
    "print(\"Names:\", names)"
   ]
  },
  {
   "cell_type": "code",
   "execution_count": null,
   "id": "53914ac6",
   "metadata": {},
   "outputs": [],
   "source": []
  }
 ],
 "metadata": {
  "kernelspec": {
   "display_name": "Python 3",
   "language": "python",
   "name": "python3"
  },
  "language_info": {
   "codemirror_mode": {
    "name": "ipython",
    "version": 3
   },
   "file_extension": ".py",
   "mimetype": "text/x-python",
   "name": "python",
   "nbconvert_exporter": "python",
   "pygments_lexer": "ipython3",
   "version": "3.11.9"
  }
 },
 "nbformat": 4,
 "nbformat_minor": 5
}
